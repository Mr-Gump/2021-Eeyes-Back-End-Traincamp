{
 "cells": [
  {
   "cell_type": "markdown",
   "metadata": {},
   "source": [
    "# 说明:作业一定要运行之后导出md再提交,如果逻辑复杂可以适当增加注释"
   ]
  },
  {
   "cell_type": "markdown",
   "metadata": {},
   "source": [
    "## 如果你觉得难度较大,可以互相讨论或去网上寻找答案"
   ]
  },
  {
   "cell_type": "markdown",
   "metadata": {},
   "source": [
    "# 1.制作一个模拟微信抢红包小程序,即输入人数和金额,打印每个红包的金额,要求运行100000次后,每个人平均抢红包金额相同(即实现公平)"
   ]
  },
  {
   "cell_type": "code",
   "execution_count": 2,
   "metadata": {},
   "outputs": [],
   "source": [
    "# code here\n"
   ]
  },
  {
   "cell_type": "markdown",
   "metadata": {},
   "source": [
    "# 2.随便输入一个文件夹路径,统计里面文件种类和对应数量,并输出  tips:`os.walk`"
   ]
  },
  {
   "cell_type": "code",
   "execution_count": 3,
   "metadata": {},
   "outputs": [],
   "source": [
    "# code here!\n"
   ]
  },
  {
   "cell_type": "markdown",
   "metadata": {},
   "source": [
    "# 3.在给定的文件 `data.txt` 中匹配给定样式的所有字符串并打印\n",
    "字符串样式为在含有`answer=true`的每一行中 <br>\n",
    "例如:<br> `s21.analyse=null;s21.answer=true;s21.content=\"<p><img src=\\\"http://edu-image.nosdn.127.net/025741D866237C8AE2872BDE6DBAE944.jpg?imageView&thumbnail=890x0&quality=100\\\"  /></p>\";s21.id=243994065627587;s21.selectCount=null;\n",
    "`<br>\n",
    "提取`content`的内容<br>\n",
    "在这个例子中,即提取<br>`<p><img src=\\\"http://edu-image.nosdn.127.net/025741D866237C8AE2872BDE6DBAE944.jpg?imageView&thumbnail=890x0&quality=100\\\"  /></p>`<br>\n",
    "**注:`data.txt`不许复制或移动位置**"
   ]
  },
  {
   "cell_type": "code",
   "execution_count": 4,
   "metadata": {},
   "outputs": [],
   "source": [
    "# code here!\n"
   ]
  },
  {
   "cell_type": "markdown",
   "metadata": {},
   "source": [
    "# 4.手动实现`mysplit`函数,要求具有和`split`完全一样的功能"
   ]
  },
  {
   "cell_type": "code",
   "execution_count": 5,
   "metadata": {},
   "outputs": [],
   "source": [
    "# code here!\n"
   ]
  }
 ],
 "metadata": {
  "kernelspec": {
   "display_name": "Python 3",
   "language": "python",
   "name": "python3"
  },
  "language_info": {
   "codemirror_mode": {
    "name": "ipython",
    "version": 3
   },
   "file_extension": ".py",
   "mimetype": "text/x-python",
   "name": "python",
   "nbconvert_exporter": "python",
   "pygments_lexer": "ipython3",
   "version": "3.7.9"
  }
 },
 "nbformat": 4,
 "nbformat_minor": 4
}
