{
 "cells": [
  {
   "cell_type": "markdown",
   "metadata": {},
   "source": [
    "# 说明:作业一定要运行之后导出md再提交,如果逻辑复杂可以适当增加注释"
   ]
  },
  {
   "cell_type": "markdown",
   "metadata": {},
   "source": [
    "## 如果你觉得难度较大,可以互相讨论或去网上寻找答案"
   ]
  },
  {
   "cell_type": "markdown",
   "metadata": {},
   "source": [
    "# 1.制作一个模拟微信抢红包小程序,即输入人数和金额,打印每个红包的金额,要求运行100000次后,每个人平均抢红包金额相同(即实现公平)"
   ]
  },
  {
   "cell_type": "code",
   "execution_count": 23,
   "metadata": {},
   "outputs": [
    {
     "data": {
      "text/plain": [
       "[4.83, 0.07, 0.99, 3.67, 0.44]"
      ]
     },
     "execution_count": 23,
     "metadata": {},
     "output_type": "execute_result"
    }
   ],
   "source": [
    "# code here\n",
    "from random import *\n",
    "import pandas as pd\n",
    "def robmoney(people,money):\n",
    "    result = []\n",
    "    money=money * 100\n",
    "    for i in range(people - 1):\n",
    "        imoney = randint(1,money - (people - i-2))\n",
    "        result.append(round(imoney * 0.01,2))\n",
    "        money -= imoney\n",
    "        \n",
    "    result.append(round(money * 0.01,2))\n",
    "    shuffle(result)\n",
    "    return result\n",
    "robmoney(5,10)\n"
   ]
  },
  {
   "cell_type": "markdown",
   "metadata": {},
   "source": [
    "# 2.随便输入一个文件夹路径,统计里面文件种类和对应数量,并输出  tips:`os.walk`"
   ]
  },
  {
   "cell_type": "code",
   "execution_count": 19,
   "metadata": {},
   "outputs": [
    {
     "ename": "SyntaxError",
     "evalue": "invalid character in identifier (<ipython-input-19-5b0557e290de>, line 21)",
     "output_type": "error",
     "traceback": [
      "\u001b[1;36m  File \u001b[1;32m\"<ipython-input-19-5b0557e290de>\"\u001b[1;36m, line \u001b[1;32m21\u001b[0m\n\u001b[1;33m    print(tabulate(types.items(),headers=['ty_pe'，'num'],tablefmt='github'))\u001b[0m\n\u001b[1;37m                                                 ^\u001b[0m\n\u001b[1;31mSyntaxError\u001b[0m\u001b[1;31m:\u001b[0m invalid character in identifier\n"
     ]
    }
   ],
   "source": [
    "# code here!\n",
    "\n",
    "import os  # 导入所有类\n",
    "from pathlib import path  # 导入模块中的部分类\n",
    "from tabulate import tabulate\n",
    "from tqdm import tqdm\n",
    "\n",
    "dirname = input('请输入您想查找的文件夹路径：')  # 输入路径\n",
    "types = {}\n",
    "\n",
    "for root, dirs, files in tqdm(os.walk(dirname)):#tqdm显示进度\n",
    "    for filename in files:\n",
    "        suf = Path(filename).suffix\n",
    "        if suf == '':\n",
    "            continue\n",
    "        if suf in types:\n",
    "            types[suf] += 1\n",
    "        else:\n",
    "            types[suf] = 1\n",
    "\n",
    "print(tabulate(types.items(),headers=['ty_pe'，'num'],tablefmt='github'))\n",
    "\n"
   ]
  },
  {
   "cell_type": "markdown",
   "metadata": {},
   "source": [
    "# 3.在给定的文件 `data.txt` 中匹配给定样式的所有字符串并打印\n",
    "字符串样式为在含有`answer=true`的每一行中 <br>\n",
    "例如:<br> `s21.analyse=null;s21.answer=true;s21.content=\"<p><img src=\\\"http://edu-image.nosdn.127.net/025741D866237C8AE2872BDE6DBAE944.jpg?imageView&thumbnail=890x0&quality=100\\\"  /></p>\";s21.id=243994065627587;s21.selectCount=null;\n",
    "`<br>\n",
    "提取`content`的内容<br>\n",
    "在这个例子中,即提取<br>`<p><img src=\\\"http://edu-image.nosdn.127.net/025741D866237C8AE2872BDE6DBAE944.jpg?imageView&thumbnail=890x0&quality=100\\\"  /></p>`<br>\n",
    "**注:`data.txt`不许复制或移动位置**"
   ]
  },
  {
   "cell_type": "code",
   "execution_count": 10,
   "metadata": {
    "scrolled": false
   },
   "outputs": [
    {
     "data": {
      "text/plain": [
       "['<p><span style=\\\\\"font-family: \\\\u5B8B\\\\u4F53; font-size: 9pt; mso-ascii-theme-font: minor-fareast; mso-fareast-theme-font: minor-fareast; mso-hansi-theme-font: minor-fareast; mso-bidi-font-family: &quot;Times New Roman&quot;; mso-bidi-theme-font: minor-bidi; mso-ansi-language: EN-US; mso-fareast-language: ZH-CN; mso-bidi-language: AR-SA;\\\\\"  ><span style=\\\\\"color: rgb(0, 0, 0);\\\\\"  >\\\\u591A\\\\u5149\\\\u8C31\\\\u63A2\\\\u6D4B</span></span></p>',\n",
       " '<p><span style=\\\\\"font-family: \\\\u5B8B\\\\u4F53; font-size: 9pt; mso-ascii-theme-font: minor-fareast; mso-fareast-theme-font: minor-fareast; mso-hansi-theme-font: minor-fareast; mso-bidi-font-family: &quot;Times New Roman&quot;; mso-bidi-theme-font: minor-bidi; mso-ansi-language: EN-US; mso-fareast-language: ZH-CN; mso-bidi-language: AR-SA;\\\\\"  ><span style=\\\\\"color: rgb(0, 0, 0);\\\\\"  >\\\\u8D85\\\\u89C6\\\\u8DDD\\\\u96F7\\\\u8FBE</span></span></p>',\n",
       " '<p><span style=\\\\\"color: black; font-family: \\\\u5B8B\\\\u4F53; font-size: 12px;\\\\\"  >\\\\u53EF\\\\u89C1\\\\u5149-&gt;\\\\u7EA2\\\\u5916\\\\u6CE2-&gt;\\\\u5FAE\\\\u6CE2-&gt;\\\\u65E0\\\\u7EBF\\\\u7535\\\\u6CE2</span><span id=\\\\\"_baidu_bookmark_start_512\\\\\"  style=\\\\\"line-height: 0px; display: none;\\\\\"  >\\\\u200D</span></p>',\n",
       " '<p><span style=\\\\\"font-family: \\\\u5B8B\\\\u4F53; font-size: 9pt; mso-ascii-theme-font: minor-fareast; mso-fareast-theme-font: minor-fareast; mso-hansi-theme-font: minor-fareast; mso-bidi-font-family: &quot;Times New Roman&quot;; mso-bidi-theme-font: minor-bidi; mso-ansi-language: EN-US; mso-fareast-language: ZH-CN; mso-bidi-language: AR-SA; mso-bidi-font-weight: bold;\\\\\"  ><span style=\\\\\"color: rgb(0, 0, 0);\\\\\"  >\\\\u4EFB\\\\u4F55\\\\u7269\\\\u4F53\\\\u5BF9\\\\u7535\\\\u78C1\\\\u6CE2\\\\u90FD\\\\u6709\\\\u4E00\\\\u5B9A\\\\u7684\\\\u53CD\\\\u5C04\\\\u4F5C\\\\u7528\\\\uFF0C\\\\u53CD\\\\u5C04\\\\u7A0B\\\\u5EA6\\\\u53D7\\\\u7269\\\\u4F53\\\\u7279\\\\u6027\\\\u548C\\\\u7535\\\\u78C1\\\\u6CE2\\\\u6CE2\\\\u957F\\\\u5F71\\\\u54CD\\\\u3002</span></span></p>',\n",
       " '<p><span style=\\\\\"font-family: \\\\u5B8B\\\\u4F53; font-size: 9pt; mso-ascii-theme-font: minor-fareast; mso-fareast-theme-font: minor-fareast; mso-hansi-theme-font: minor-fareast; mso-bidi-font-family: &quot;Times New Roman&quot;; mso-bidi-theme-font: minor-bidi; mso-ansi-language: EN-US; mso-fareast-language: ZH-CN; mso-bidi-language: AR-SA; mso-bidi-font-weight: bold;\\\\\"  ><span style=\\\\\"color: rgb(0, 0, 0);\\\\\"  >\\\\u4E0D\\\\u540C\\\\u7269\\\\u4F53\\\\u5BF9\\\\u540C\\\\u4E00\\\\u6CE2\\\\u957F\\\\u7684\\\\u7535\\\\u78C1\\\\u6CE2\\\\u53CD\\\\u5C04\\\\u80FD\\\\u529B\\\\u4E0D\\\\u76F8\\\\u540C\\\\u3002</span></span></p>',\n",
       " '<p><span style=\\\\\"font-family: \\\\u5B8B\\\\u4F53; font-size: 9pt; mso-ascii-theme-font: minor-fareast; mso-fareast-theme-font: minor-fareast; mso-hansi-theme-font: minor-fareast; mso-bidi-font-family: &quot;Times New Roman&quot;; mso-bidi-theme-font: minor-bidi; mso-ansi-language: EN-US; mso-fareast-language: ZH-CN; mso-bidi-language: AR-SA; mso-bidi-font-weight: bold;\\\\\"  ><span style=\\\\\"color: rgb(0, 0, 0);\\\\\"  >\\\\u540C\\\\u4E00\\\\u7269\\\\u4F53\\\\u5BF9\\\\u4E0D\\\\u540C\\\\u6CE2\\\\u957F\\\\u7684\\\\u7535\\\\u78C1\\\\u6CE2\\\\u53CD\\\\u5C04\\\\u80FD\\\\u529B\\\\u4E0D\\\\u76F8\\\\u540C\\\\u3002</span></span></p>',\n",
       " '<p><span style=\\\\\"font-family: \\\\u5B8B\\\\u4F53; font-size: 9pt; mso-ascii-theme-font: minor-fareast; mso-fareast-theme-font: minor-fareast; mso-hansi-theme-font: minor-fareast; mso-bidi-font-family: &quot;Times New Roman&quot;; mso-bidi-theme-font: minor-bidi; mso-ansi-language: EN-US; mso-fareast-language: ZH-CN; mso-bidi-language: AR-SA; mso-bidi-font-weight: bold;\\\\\"  ><span style=\\\\\"color: rgb(0, 0, 0);\\\\\"  >\\\\u6C14\\\\u8C61\\\\u6761\\\\u4EF6</span></span></p>',\n",
       " '<p><span style=\\\\\"font-family: \\\\u5B8B\\\\u4F53; font-size: 9pt; mso-ascii-theme-font: minor-fareast; mso-fareast-theme-font: minor-fareast; mso-hansi-theme-font: minor-fareast; mso-bidi-font-family: &quot;Times New Roman&quot;; mso-bidi-theme-font: minor-bidi; mso-ansi-language: EN-US; mso-fareast-language: ZH-CN; mso-bidi-language: AR-SA; mso-bidi-font-weight: bold;\\\\\"  ><span style=\\\\\"color: rgb(0, 0, 0);\\\\\"  >\\\\u76EE\\\\u6807\\\\u7684\\\\u7279\\\\u5F81\\\\u4FE1\\\\u606F</span></span></p>',\n",
       " '<p><span style=\\\\\"font-family: \\\\u5B8B\\\\u4F53; font-size: 9pt; mso-ascii-theme-font: minor-fareast; mso-fareast-theme-font: minor-fareast; mso-hansi-theme-font: minor-fareast; mso-bidi-font-family: &quot;Times New Roman&quot;; mso-bidi-theme-font: minor-bidi; mso-ansi-language: EN-US; mso-fareast-language: ZH-CN; mso-bidi-language: AR-SA; mso-bidi-font-weight: bold;\\\\\"  ><span style=\\\\\"color: rgb(0, 0, 0);\\\\\"  >\\\\u5730\\\\u5F62\\\\u5730\\\\u7269</span></span></p>',\n",
       " '<p><span style=\\\\\"font-family: \\\\u5B8B\\\\u4F53; font-size: 9pt; mso-ascii-theme-font: minor-fareast; mso-fareast-theme-font: minor-fareast; mso-hansi-theme-font: minor-fareast; mso-bidi-font-family: &quot;Times New Roman&quot;; mso-ansi-language: EN-US; mso-fareast-language: ZH-CN; mso-bidi-language: AR-SA; mso-bidi-font-weight: bold; mso-font-kerning: 0pt;\\\\\"  ><span style=\\\\\"color: rgb(0, 0, 0);\\\\\"  >\\\\u4FA6\\\\u5BDF\\\\u653B\\\\u51FB\\\\u4E00\\\\u4F53\\\\u5316</span></span></p>',\n",
       " '<p><span style=\\\\\"font-family: \\\\u5B8B\\\\u4F53; font-size: 9pt; mso-ascii-theme-font: minor-fareast; mso-fareast-theme-font: minor-fareast; mso-hansi-theme-font: minor-fareast; mso-bidi-font-family: &quot;Times New Roman&quot;; mso-ansi-language: EN-US; mso-fareast-language: ZH-CN; mso-bidi-language: AR-SA; mso-bidi-font-weight: bold; mso-font-kerning: 0pt;\\\\\"  ><span style=\\\\\"color: rgb(0, 0, 0);\\\\\"  >\\\\u4FA6\\\\u5BDF\\\\u901F\\\\u5EA6\\\\u4E0A\\\\u5B9E\\\\u65F6\\\\u5316</span></span></p>',\n",
       " '<p><span style=\\\\\"font-family: \\\\u5B8B\\\\u4F53; font-size: 9pt; mso-ascii-theme-font: minor-fareast; mso-fareast-theme-font: minor-fareast; mso-hansi-theme-font: minor-fareast; mso-bidi-font-family: &quot;Times New Roman&quot;; mso-ansi-language: EN-US; mso-fareast-language: ZH-CN; mso-bidi-language: AR-SA; mso-bidi-font-weight: bold; mso-font-kerning: 0pt;\\\\\"  ><span style=\\\\\"color: rgb(0, 0, 0);\\\\\"  >\\\\u4FA6\\\\u5BDF\\\\u624B\\\\u6BB5\\\\u4E0A\\\\u7684\\\\u7EFC\\\\u5408\\\\u5316</span></span></p>',\n",
       " '<p><span style=\\\\\"font-family: \\\\u5B8B\\\\u4F53; font-size: 9pt; mso-ascii-theme-font: minor-fareast; mso-fareast-theme-font: minor-fareast; mso-hansi-theme-font: minor-fareast; mso-bidi-font-family: &quot;Times New Roman&quot;; mso-bidi-theme-font: minor-bidi; mso-ansi-language: EN-US; mso-fareast-language: ZH-CN; mso-bidi-language: AR-SA;\\\\\"  ><span style=\\\\\"color: rgb(0, 0, 0);\\\\\"  >\\\\u88AB\\\\u52A8\\\\u63A2\\\\u6D4B\\\\u65B9\\\\u5F0F\\\\u4F18\\\\u70B9\\\\u5BB9\\\\u6613\\\\u9690\\\\u853D\\\\u81EA\\\\u8EAB\\\\u3002</span></span></p>',\n",
       " '<p><span id=\\\\\"_baidu_bookmark_start_640\\\\\"  style=\\\\\"line-height: 0px; display: none;\\\\\"  >\\\\u200D</span><span style=\\\\\"font-family: \\\\u5B8B\\\\u4F53; font-size: 9pt; mso-ascii-theme-font: minor-fareast; mso-fareast-theme-font: minor-fareast; mso-hansi-theme-font: minor-fareast; mso-bidi-font-family: &quot;Times New Roman&quot;; mso-bidi-theme-font: minor-bidi; mso-ansi-language: EN-US; mso-fareast-language: ZH-CN; mso-bidi-language: AR-SA;\\\\\"  ><span style=\\\\\"color: rgb(0, 0, 0);\\\\\"  >\\\\u4E3B\\\\u52A8\\\\u63A2\\\\u6D4B\\\\u65B9\\\\u5F0F\\\\u7F3A\\\\u70B9\\\\u5BB9\\\\u6613\\\\u66B4\\\\u9732\\\\u81EA\\\\u5DF1\\\\u3002</span></span></p>',\n",
       " '<p><span style=\\\\\"font-family: \\\\u5B8B\\\\u4F53; font-size: 9pt; mso-ascii-theme-font: minor-fareast; mso-fareast-theme-font: minor-fareast; mso-hansi-theme-font: minor-fareast; mso-bidi-font-family: &quot;Times New Roman&quot;; mso-bidi-theme-font: minor-bidi; mso-ansi-language: EN-US; mso-fareast-language: ZH-CN; mso-bidi-language: AR-SA;\\\\\"  ><span style=\\\\\"color: rgb(0, 0, 0);\\\\\"  >\\\\u6218\\\\u672F\\\\u4FA6\\\\u5BDF</span></span></p>',\n",
       " '<p><span style=\\\\\"font-family: \\\\u5B8B\\\\u4F53; font-size: 9pt; mso-ascii-theme-font: minor-fareast; mso-fareast-theme-font: minor-fareast; mso-hansi-theme-font: minor-fareast; mso-bidi-font-family: &quot;Times New Roman&quot;; mso-bidi-theme-font: minor-bidi; mso-ansi-language: EN-US; mso-fareast-language: ZH-CN; mso-bidi-language: AR-SA;\\\\\"  ><span style=\\\\\"color: rgb(0, 0, 0);\\\\\"  >\\\\u6218\\\\u7565\\\\u4FA6\\\\u5BDF</span></span></p>',\n",
       " '<p><span style=\\\\\"font-family: \\\\u5B8B\\\\u4F53; font-size: 9pt; mso-ascii-theme-font: minor-fareast; mso-fareast-theme-font: minor-fareast; mso-hansi-theme-font: minor-fareast; mso-bidi-font-family: &quot;Times New Roman&quot;; mso-bidi-theme-font: minor-bidi; mso-ansi-language: EN-US; mso-fareast-language: ZH-CN; mso-bidi-language: AR-SA;\\\\\"  ><span style=\\\\\"color: rgb(0, 0, 0);\\\\\"  >\\\\u6218\\\\u5F79\\\\u4FA6\\\\u5BDF</span></span></p>']"
      ]
     },
     "execution_count": 10,
     "metadata": {},
     "output_type": "execute_result"
    }
   ],
   "source": [
    "# code here!\n",
    "import os\n",
    "import re\n",
    "a= open(\"data.txt\",\"r\",encoding='utf-8')\n",
    "string = a.read()\n",
    "a.close()\n",
    "p = re.compile(r'answer=true;.*content=\\\"(.*)\";')#添加了answer=ture\n",
    "p.findall(string)\n"
   ]
  },
  {
   "cell_type": "markdown",
   "metadata": {},
   "source": [
    "# 4.手动实现`mysplit`函数,要求具有和`split`完全一样的功能"
   ]
  },
  {
   "cell_type": "code",
   "execution_count": 20,
   "metadata": {},
   "outputs": [
    {
     "name": "stdout",
     "output_type": "stream",
     "text": [
      "[\"Xi\\\\'an\", 'iaotong', 'University', 'is#a#jail!']\n"
     ]
    }
   ],
   "source": [
    "def my_split(string, character):\n",
    "    a = list(string)  # 把字符串分割成单个字符\n",
    "    als = \"\"\n",
    "    res = []\n",
    "    for i in string:\n",
    "        if i == character:\n",
    "            res.append(als)\n",
    "            als = \"\"\n",
    "        else:\n",
    "            als = als + i\n",
    "    res.append(als)\n",
    "    return res\n",
    "print(my_split(r\"Xi\\'an,iaotong,University,is#a#jail!\", \",\"))\n"
   ]
  },
  {
   "cell_type": "code",
   "execution_count": null,
   "metadata": {},
   "outputs": [
    {
     "name": "stdout",
     "output_type": "stream",
     "text": [
      "-(初版)井字棋游戏,输入棋号进行对战,\n",
      "对应棋号为第一行:a1-a2-a3,对应棋号为第二行:b1-b2-b3,对应棋号为第三行:c1-c2-c3\n",
      "  |   |   | \n",
      "- +-  +-  +-\n",
      "  |   |   | \n",
      "- +-  +-  +-\n",
      "  |   |   | \n",
      "请用户u1开始下棋:a1\n",
      "x |   |   | \n",
      "- +-  +-  +-\n",
      "  |   |   | \n",
      "- +-  +-  +-\n",
      "  |   |   | \n",
      "请用户u2开始下棋:a2\n",
      "x | o |   | \n",
      "- +-  +-  +-\n",
      "  |   |   | \n",
      "- +-  +-  +-\n",
      "  |   |   | \n",
      "请用户u1开始下棋:a3\n",
      "x | o | x | \n",
      "- +-  +-  +-\n",
      "  |   |   | \n",
      "- +-  +-  +-\n",
      "  |   |   | \n"
     ]
    }
   ],
   "source": [
    "import os\n",
    "import sys\n",
    "#棋盘模块\n",
    "def model(dictionary,serial=False):\n",
    "     if serial:\n",
    "         print('-(初版)井字棋游戏,输入棋号进行对战,')\n",
    "         print('对应棋号为第一行:a1-a2-a3',end=',')\n",
    "         print('对应棋号为第二行:b1-b2-b3',end=',')\n",
    "         print('对应棋号为第三行:c1-c2-c3')\n",
    "     print(dictionary['a1'] + ' | '+ dictionary['a2'] +' | '+ dictionary['a3'] +' | ')\n",
    "     print('- +-  +-  +-')\n",
    "     print(dictionary['b1'] + ' | ' + dictionary['b2'] + ' | ' + dictionary['b3'] + ' | ')\n",
    "     print('- +-  +-  +-')\n",
    "     print(dictionary['c1'] + ' | ' + dictionary['c2'] + ' | ' + dictionary['c3'] + ' | ')\n",
    "#主模块\n",
    "def main():\n",
    "    dictionary={'a1':' ','a2':' ','a3':' ','b1':' ','b2':' ','b3':' ','c1':' ','c2':' ','c3':' '}\n",
    "    model(dictionary, True)\n",
    "    u1 = 'x' #用户1\n",
    "    u2 = 'o' #用户2\n",
    "    stepNumber =1  #记录步数\n",
    "    break_fang = 0 #获胜者记录\n",
    "    while(stepNumber<=9):\n",
    "        fv = True  # 判断条件2\n",
    "        while fv:\n",
    "            num = input('请用户u1开始下棋:')\n",
    "            compare=1 #判断条件1\n",
    "            for x in dictionary:\n",
    "                if x.find(num)!=-1:compare=0\n",
    "            if compare ==0:\n",
    "                fv=False\n",
    "        dictionary[num] = u1\n",
    "        model(dictionary)\n",
    "        # 0:继续 1,用户1胜,2,用户2胜\n",
    "        break_fang = forResult(dictionary)\n",
    "        if break_fang > 0: break\n",
    "        fv =True #清楚状态\n",
    "        stepNumber+=1\n",
    "        while fv:\n",
    "            num1=input('请用户u2开始下棋:')\n",
    "            compare = 1  # 判断条件1\n",
    "            for x in dictionary:\n",
    "                if x.find(num1)!=-1:compare=0\n",
    "            if compare == 0:\n",
    "                fv=False\n",
    "        dictionary[num1] = u2\n",
    "        model(dictionary)\n",
    "        break_fang = forResult(dictionary)\n",
    "        if break_fang > 0: break\n",
    "    stepNumber+=1\n",
    "    gameover(break_fang)\n",
    "#退出下棋\n",
    "def gameover(break_fang):\n",
    "    c = input('是否重新开始? yes:no:')\n",
    "    if c.find('yes')!=-1:\n",
    "        main()\n",
    "    else:\n",
    "        print('-游戏结束-')\n",
    "        return\n",
    "#判断获胜情况\n",
    "#dictionary:棋盘信息\n",
    "def forResult(dictionary):\n",
    "    dicts= dict(dictionary)\n",
    "    if dicts['a1'] == dicts['a2'] and dicts['a2'] == dicts['a3'] and len(dicts['a3'].strip())>0:\n",
    "        print('游戏结束,' + '用户1-获胜' if dicts['a1'] == 'x' else '用户2-获胜')\n",
    "        return 1 if dicts['a1']=='x' else 2\n",
    "    elif dicts['a1'] == dicts['b2'] and dicts['b2'] == dicts['c3']  and len(dicts['c3'].strip())>0:\n",
    "        print('游戏结束,' + '用户1-获胜' if dicts['a1'] == 'x' else '用户2-获胜')\n",
    "        return 1 if dicts['a1'] == 'x' else 2\n",
    "    elif dicts['a1'] == dicts['b1'] and dicts['b1'] == dicts['c1']  and len(dicts['c1'].strip())>0:\n",
    "         print('游戏结束,' + '用户1-获胜' if dicts['a1'] == 'x' else '用户2-获胜')\n",
    "         return 1 if dicts['a1'] == 'x' else 2\n",
    "    elif dicts['a2'] == dicts['b2'] and dicts['b2'] == dicts['c2']  and len(dicts['c2'].strip())>0:\n",
    "        print('游戏结束,' + '用户1-获胜' if dicts['a2'] == 'x' else '用户2-获胜')\n",
    "        return 1 if dicts['a2'] == 'x' else 2\n",
    "    elif dicts['a3'] == dicts['b3'] and dicts['b3'] == dicts['c3']  and len(dicts['c3'].strip())>0:\n",
    "         print('游戏结束,' + '用户1-获胜' if dicts['a3'] == 'x' else '用户2-获胜')\n",
    "         return 1 if dicts['a3'] == 'x' else 2\n",
    "    elif dicts['a3'] == dicts['b2'] and dicts['b3'] == dicts['c1']  and len(dicts['c1'].strip())>0:\n",
    "         print('游戏结束,' + '用户1-获胜' if dicts['a3'] == 'x' else '用户2-获胜')\n",
    "         return 1 if dicts['a3'] == 'x' else 2\n",
    "    elif dicts['b1'] == dicts['b2'] and dicts['b2'] == dicts['b3']  and len(dicts['b3'].strip())>0:\n",
    "         print('游戏结束,' + '用户1-获胜' if dicts['b1'] == 'x' else '用户2-获胜')\n",
    "         return 1 if dicts['b1'] == 'x' else 2\n",
    "    elif dicts['c1'] == dicts['c2'] and dicts['c2'] == dicts['c3']  and len(dicts['c3'].strip())>0:\n",
    "         print('游戏结束,' + '用户1-获胜' if dicts['c1'] == 'x' else '用户2-获胜')\n",
    "         return 1 if dicts['c1'] == 'x' else 2\n",
    "    else:\n",
    "        return 0\n",
    "if __name__ =='__main__':\n",
    "    main()"
   ]
  },
  {
   "cell_type": "code",
   "execution_count": null,
   "metadata": {},
   "outputs": [],
   "source": []
  }
 ],
 "metadata": {
  "kernelspec": {
   "display_name": "Python 3",
   "language": "python",
   "name": "python3"
  },
  "language_info": {
   "codemirror_mode": {
    "name": "ipython",
    "version": 3
   },
   "file_extension": ".py",
   "mimetype": "text/x-python",
   "name": "python",
   "nbconvert_exporter": "python",
   "pygments_lexer": "ipython3",
   "version": "3.7.9"
  }
 },
 "nbformat": 4,
 "nbformat_minor": 4
}
