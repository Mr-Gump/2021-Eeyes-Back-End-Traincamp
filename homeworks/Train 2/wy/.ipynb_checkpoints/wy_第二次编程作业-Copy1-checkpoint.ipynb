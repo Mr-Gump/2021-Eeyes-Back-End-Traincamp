{
 "cells": [
  {
   "cell_type": "markdown",
   "id": "forced-greensboro",
   "metadata": {},
   "source": [
    "## 1.制作一个抢红包小程序，及输入人数和金额，打印每个红包的金额"
   ]
  },
  {
   "cell_type": "code",
   "execution_count": null,
   "id": "crude-buffalo",
   "metadata": {},
   "outputs": [],
   "source": [
    "def rob_red_pocket (people,money) :\n",
    "    import random\n",
    "    l = []\n",
    "    for i in range(people) :\n",
    "        l.append(round (random.uniform(0.01,money - sum(l)) , 2))\n",
    "        print (l[i])\n",
    "\n",
    "people = 10  #int(input('多少人抢红包：'))\n",
    "money = 20  #int(input('抢多少钱？'))\n",
    "rob_red_pocket (people,money)"
   ]
  },
  {
   "cell_type": "markdown",
   "id": "charitable-three",
   "metadata": {},
   "source": [
    "## 2.随便给一个文件夹路径统计里面文件种类和对应数量"
   ]
  },
  {
   "cell_type": "code",
   "execution_count": null,
   "id": "solar-register",
   "metadata": {},
   "outputs": [],
   "source": [
    "# ····"
   ]
  },
  {
   "cell_type": "markdown",
   "id": "caroline-transaction",
   "metadata": {},
   "source": [
    "## 3.在给定的文件中匹配给定样式的所有字符串并打印"
   ]
  },
  {
   "cell_type": "code",
   "execution_count": null,
   "id": "binary-significance",
   "metadata": {},
   "outputs": [],
   "source": [
    "import re\n",
    "File = open(\"data.txt\",\"r\",encoding='utf-8')\n",
    "s = a.read()\n",
    "File.close()\n",
    "p = re.compile(r\"(.*)\\[([^\\[\\]]*)\\](.*)\")\n",
    "p.findall(string)"
   ]
  },
  {
   "cell_type": "markdown",
   "id": "recovered-angola",
   "metadata": {},
   "source": [
    "## 4.mysplite"
   ]
  },
  {
   "cell_type": "code",
   "execution_count": null,
   "id": "formed-sucking",
   "metadata": {},
   "outputs": [],
   "source": [
    "s = 'a,b,c'\n",
    "print (s.split(',')) #人家的函数\n",
    "\n",
    "def my_split(c):  #wy的函数\n",
    "    A = []\n",
    "    B = \"\"\n",
    "    for Character in s :\n",
    "        if Character == c :\n",
    "            A.append(B)\n",
    "            B = \"\"\n",
    "        else :\n",
    "            B += Character\n",
    "    A.append(B)\n",
    "    print(A)\n",
    "\n",
    "my_split(',')"
   ]
  }
 ],
 "metadata": {
  "kernelspec": {
   "display_name": "Python 3",
   "language": "python",
   "name": "python3"
  },
  "language_info": {
   "codemirror_mode": {
    "name": "ipython",
    "version": 3
   },
   "file_extension": ".py",
   "mimetype": "text/x-python",
   "name": "python",
   "nbconvert_exporter": "python",
   "pygments_lexer": "ipython3",
   "version": "3.7.9"
  }
 },
 "nbformat": 4,
 "nbformat_minor": 5
}
