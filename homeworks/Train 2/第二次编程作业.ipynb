{
 "cells": [
  {
   "cell_type": "markdown",
   "metadata": {},
   "source": [
    "# 说明:作业一定要运行之后导出md再提交,如果逻辑复杂可以适当增加注释"
   ]
  },
  {
   "cell_type": "markdown",
   "metadata": {},
   "source": [
    "## 如果你觉得难度较大,可以互相讨论或去网上寻找答案"
   ]
  },
  {
   "cell_type": "markdown",
   "metadata": {},
   "source": [
    "# 1.制作一个模拟微信抢红包小程序,即输入人数和金额,打印每个红包的金额,要求运行100000次后,每个人平均抢红包金额相同(即实现公平)"
   ]
  },
  {
   "cell_type": "code",
   "execution_count": 2,
   "metadata": {},
   "outputs": [],
   "source": [
    "# code here\n"
   ]
  },
  {
   "cell_type": "markdown",
   "metadata": {},
   "source": [
    "# 2.随便输入一个文件夹路径,统计里面文件种类和对应数量,并输出  tips:`os.walk`"
   ]
  },
  {
   "cell_type": "code",
   "execution_count": 5,
   "metadata": {},
   "outputs": [
    {
     "data": {
      "text/plain": [
       "{'.py': 2,\n",
       " '.md': 43,\n",
       " '.pdf': 6,\n",
       " '': 123,\n",
       " '.sample': 12,\n",
       " '.idx': 1,\n",
       " '.pack': 1,\n",
       " '.c': 1,\n",
       " '.exe': 1,\n",
       " '.png': 5,\n",
       " '.txt': 2,\n",
       " '.ipynb': 4,\n",
       " '.JPG': 1}"
      ]
     },
     "execution_count": 5,
     "metadata": {},
     "output_type": "execute_result"
    }
   ],
   "source": [
    "# code here!\n",
    "\n",
    "import os\n",
    "path = r\"C:\\Users\\HSH\\Desktop\\2021-Eeyes-Back-End-Traincamp\"\n",
    "def count_type(path,type_dict):\n",
    "    for root, dirs, files in os.walk(path):\n",
    "\n",
    "        for name in files:\n",
    "            type_dict.setdefault(os.path.splitext(name)[1],0) \n",
    "    \n",
    "            type_dict[os.path.splitext(name)[1]] += 1\n",
    "    return type_dict\n",
    "\n",
    "a={}\n",
    "count_type(path,a)"
   ]
  },
  {
   "cell_type": "markdown",
   "metadata": {},
   "source": [
    "# 3.在给定的文件 `data.txt` 中匹配给定样式的所有字符串并打印\n",
    "字符串样式为在含有`answer=true`的每一行中 <br>\n",
    "例如:<br> `s21.analyse=null;s21.answer=true;s21.content=\"<p><img src=\\\"http://edu-image.nosdn.127.net/025741D866237C8AE2872BDE6DBAE944.jpg?imageView&thumbnail=890x0&quality=100\\\"  /></p>\";s21.id=243994065627587;s21.selectCount=null;\n",
    "`<br>\n",
    "提取`content`的内容<br>\n",
    "在这个例子中,即提取<br>`<p><img src=\\\"http://edu-image.nosdn.127.net/025741D866237C8AE2872BDE6DBAE944.jpg?imageView&thumbnail=890x0&quality=100\\\"  /></p>`<br>\n",
    "**注:`data.txt`不许复制或移动位置**"
   ]
  },
  {
   "cell_type": "code",
   "execution_count": 3,
   "metadata": {},
   "outputs": [
    {
     "data": {
      "text/plain": [
       "['<p><span style=\\\\\"font-family: \\\\u5B8B\\\\u4F53; font-size: 9pt; mso-ascii-theme-font: minor-fareast; mso-fareast-theme-font: minor-fareast; mso-hansi-theme-font: minor-fareast; mso-bidi-font-family: &quot;Times New Roman&quot;; mso-bidi-theme-font: minor-bidi; mso-ansi-language: EN-US; mso-fareast-language: ZH-CN; mso-bidi-language: AR-SA;\\\\\"  ><span style=\\\\\"color: rgb(0, 0, 0);\\\\\"  >\\\\u591C\\\\u89C6\\\\u6280\\\\u672F</span></span></p>',\n",
       " '<p><span style=\\\\\"font-family: \\\\u5B8B\\\\u4F53; font-size: 9pt; mso-ascii-theme-font: minor-fareast; mso-fareast-theme-font: minor-fareast; mso-hansi-theme-font: minor-fareast; mso-bidi-font-family: &quot;Times New Roman&quot;; mso-bidi-theme-font: minor-bidi; mso-ansi-language: EN-US; mso-fareast-language: ZH-CN; mso-bidi-language: AR-SA;\\\\\"  ><span style=\\\\\"color: rgb(0, 0, 0);\\\\\"  >\\\\u8FDC\\\\u8DDD\\\\u79BB\\\\u5149\\\\u5B66\\\\u63A2\\\\u6D4B\\\\u6280\\\\u672F</span></span></p>',\n",
       " '<p><span style=\\\\\"font-family: \\\\u5B8B\\\\u4F53; font-size: 9pt; mso-ascii-theme-font: minor-fareast; mso-fareast-theme-font: minor-fareast; mso-hansi-theme-font: minor-fareast; mso-bidi-font-family: &quot;Times New Roman&quot;; mso-bidi-theme-font: minor-bidi; mso-ansi-language: EN-US; mso-fareast-language: ZH-CN; mso-bidi-language: AR-SA;\\\\\"  ><span style=\\\\\"color: rgb(0, 0, 0);\\\\\"  >\\\\u6FC0\\\\u5149\\\\u63A2\\\\u6D4B</span></span></p>',\n",
       " '<p><span style=\\\\\"font-family: \\\\u5B8B\\\\u4F53; font-size: 9pt; mso-ascii-theme-font: minor-fareast; mso-fareast-theme-font: minor-fareast; mso-hansi-theme-font: minor-fareast; mso-bidi-font-family: &quot;Times New Roman&quot;; mso-bidi-theme-font: minor-bidi; mso-ansi-language: EN-US; mso-fareast-language: ZH-CN; mso-bidi-language: AR-SA;\\\\\"  ><span style=\\\\\"color: rgb(0, 0, 0);\\\\\"  >\\\\u591A\\\\u5149\\\\u8C31\\\\u63A2\\\\u6D4B</span></span></p>',\n",
       " '<p><span style=\\\\\"font-family: \\\\u5B8B\\\\u4F53; font-size: 9pt; mso-ascii-theme-font: minor-fareast; mso-fareast-theme-font: minor-fareast; mso-hansi-theme-font: minor-fareast; mso-bidi-font-family: &quot;Times New Roman&quot;; mso-bidi-theme-font: minor-bidi; mso-ansi-language: EN-US; mso-fareast-language: ZH-CN; mso-bidi-language: AR-SA;\\\\\"  ><span style=\\\\\"color: rgb(0, 0, 0);\\\\\"  >\\\\u8B66\\\\u6212\\\\u96F7\\\\u8FBE</span></span></p>',\n",
       " '<p><span style=\\\\\"font-family: \\\\u5B8B\\\\u4F53; font-size: 9pt; mso-ascii-theme-font: minor-fareast; mso-fareast-theme-font: minor-fareast; mso-hansi-theme-font: minor-fareast; mso-bidi-font-family: &quot;Times New Roman&quot;; mso-bidi-theme-font: minor-bidi; mso-ansi-language: EN-US; mso-fareast-language: ZH-CN; mso-bidi-language: AR-SA;\\\\\"  ><span style=\\\\\"color: rgb(0, 0, 0);\\\\\"  >\\\\u8D85\\\\u89C6\\\\u8DDD\\\\u96F7\\\\u8FBE</span></span></p>',\n",
       " '<p><span style=\\\\\"font-family: \\\\u5B8B\\\\u4F53; font-size: 9pt; mso-ascii-theme-font: minor-fareast; mso-fareast-theme-font: minor-fareast; mso-hansi-theme-font: minor-fareast; mso-bidi-font-family: &quot;Times New Roman&quot;; mso-bidi-theme-font: minor-bidi; mso-ansi-language: EN-US; mso-fareast-language: ZH-CN; mso-bidi-language: AR-SA;\\\\\"  ><span style=\\\\\"color: rgb(0, 0, 0);\\\\\"  >\\\\u4FA7\\\\u89C6\\\\u96F7\\\\u8FBE</span></span></p>',\n",
       " '<p><span style=\\\\\"font-family: \\\\u5B8B\\\\u4F53; font-size: 9pt; mso-ascii-theme-font: minor-fareast; mso-fareast-theme-font: minor-fareast; mso-hansi-theme-font: minor-fareast; mso-bidi-font-family: &quot;Times New Roman&quot;; mso-bidi-theme-font: minor-bidi; mso-ansi-language: EN-US; mso-fareast-language: ZH-CN; mso-bidi-language: AR-SA;\\\\\"  ><span style=\\\\\"color: rgb(0, 0, 0);\\\\\"  >\\\\u76F8\\\\u63A7\\\\u9635\\\\u96F7\\\\u8FBE</span></span></p>',\n",
       " '<p><span style=\\\\\"color: black; font-family: \\\\u5B8B\\\\u4F53; font-size: 12px;\\\\\"  >\\\\u5FAE\\\\u6CE2-&gt;\\\\u7EA2\\\\u5916\\\\u6CE2-&gt;\\\\u53EF\\\\u89C1\\\\u5149-&gt;\\\\u65E0\\\\u7EBF\\\\u7535\\\\u6CE2</span></p>',\n",
       " '<p><span style=\\\\\"color: black; font-family: \\\\u5B8B\\\\u4F53; font-size: 12px;\\\\\"  >\\\\u53EF\\\\u89C1\\\\u5149-&gt;\\\\u7EA2\\\\u5916\\\\u6CE2-&gt;\\\\u5FAE\\\\u6CE2-&gt;\\\\u65E0\\\\u7EBF\\\\u7535\\\\u6CE2</span><span id=\\\\\"_baidu_bookmark_start_512\\\\\"  style=\\\\\"line-height: 0px; display: none;\\\\\"  >\\\\u200D</span></p>',\n",
       " '<p><span style=\\\\\"color: black; font-family: \\\\u5B8B\\\\u4F53; font-size: 12px;\\\\\"  >\\\\u7EA2\\\\u5916\\\\u6CE2-&gt;\\\\u53EF\\\\u89C1\\\\u5149-&gt;\\\\u5FAE\\\\u6CE2-&gt;\\\\u65E0\\\\u7EBF\\\\u7535\\\\u6CE2</span></p>',\n",
       " '<p><span style=\\\\\"color: black; font-family: \\\\u5B8B\\\\u4F53; font-size: 12px;\\\\\"  >\\\\u53EF\\\\u89C1\\\\u5149-&gt;\\\\u7EA2\\\\u5916\\\\u6CE2-&gt;\\\\u65E0\\\\u7EBF\\\\u7535\\\\u6CE2-&gt;\\\\u5FAE\\\\u6CE2</span></p>',\n",
       " '<p><span style=\\\\\"font-family: \\\\u5B8B\\\\u4F53; font-size: 9pt; mso-ascii-theme-font: minor-fareast; mso-fareast-theme-font: minor-fareast; mso-hansi-theme-font: minor-fareast; mso-bidi-font-family: &quot;Times New Roman&quot;; mso-bidi-theme-font: minor-bidi; mso-ansi-language: EN-US; mso-fareast-language: ZH-CN; mso-bidi-language: AR-SA; mso-bidi-font-weight: bold;\\\\\"  ><span style=\\\\\"color: rgb(0, 0, 0);\\\\\"  >\\\\u4EFB\\\\u4F55\\\\u7269\\\\u4F53\\\\u5BF9\\\\u7535\\\\u78C1\\\\u6CE2\\\\u90FD\\\\u6709\\\\u4E00\\\\u5B9A\\\\u7684\\\\u53CD\\\\u5C04\\\\u4F5C\\\\u7528\\\\uFF0C\\\\u53CD\\\\u5C04\\\\u7A0B\\\\u5EA6\\\\u53D7\\\\u7269\\\\u4F53\\\\u7279\\\\u6027\\\\u548C\\\\u7535\\\\u78C1\\\\u6CE2\\\\u6CE2\\\\u957F\\\\u5F71\\\\u54CD\\\\u3002</span></span></p>',\n",
       " '<p><span style=\\\\\"font-family: \\\\u5B8B\\\\u4F53; font-size: 9pt; mso-ascii-theme-font: minor-fareast; mso-fareast-theme-font: minor-fareast; mso-hansi-theme-font: minor-fareast; mso-bidi-font-family: &quot;Times New Roman&quot;; mso-bidi-theme-font: minor-bidi; mso-ansi-language: EN-US; mso-fareast-language: ZH-CN; mso-bidi-language: AR-SA; mso-bidi-font-weight: bold;\\\\\"  ><span style=\\\\\"color: rgb(0, 0, 0);\\\\\"  >\\\\u4E0D\\\\u540C\\\\u7269\\\\u4F53\\\\u5BF9\\\\u76F8\\\\u540C\\\\u6CE2\\\\u957F\\\\u7535\\\\u78C1\\\\u6CE2\\\\u7684\\\\u53CD\\\\u5C04\\\\u80FD\\\\u529B\\\\u76F8\\\\u540C\\\\u3002</span></span></p>',\n",
       " '<p><span style=\\\\\"font-family: \\\\u5B8B\\\\u4F53; font-size: 9pt; mso-ascii-theme-font: minor-fareast; mso-fareast-theme-font: minor-fareast; mso-hansi-theme-font: minor-fareast; mso-bidi-font-family: &quot;Times New Roman&quot;; mso-bidi-theme-font: minor-bidi; mso-ansi-language: EN-US; mso-fareast-language: ZH-CN; mso-bidi-language: AR-SA; mso-bidi-font-weight: bold;\\\\\"  ><span style=\\\\\"color: rgb(0, 0, 0);\\\\\"  >\\\\u4E0D\\\\u540C\\\\u7269\\\\u4F53\\\\u5BF9\\\\u540C\\\\u4E00\\\\u6CE2\\\\u957F\\\\u7684\\\\u7535\\\\u78C1\\\\u6CE2\\\\u53CD\\\\u5C04\\\\u80FD\\\\u529B\\\\u4E0D\\\\u76F8\\\\u540C\\\\u3002</span></span></p>',\n",
       " '<p><span style=\\\\\"font-family: \\\\u5B8B\\\\u4F53; font-size: 9pt; mso-ascii-theme-font: minor-fareast; mso-fareast-theme-font: minor-fareast; mso-hansi-theme-font: minor-fareast; mso-bidi-font-family: &quot;Times New Roman&quot;; mso-bidi-theme-font: minor-bidi; mso-ansi-language: EN-US; mso-fareast-language: ZH-CN; mso-bidi-language: AR-SA; mso-bidi-font-weight: bold;\\\\\"  ><span style=\\\\\"color: rgb(0, 0, 0);\\\\\"  >\\\\u540C\\\\u4E00\\\\u7269\\\\u4F53\\\\u5BF9\\\\u4E0D\\\\u540C\\\\u6CE2\\\\u957F\\\\u7684\\\\u7535\\\\u78C1\\\\u6CE2\\\\u53CD\\\\u5C04\\\\u80FD\\\\u529B\\\\u4E0D\\\\u76F8\\\\u540C\\\\u3002</span></span></p>',\n",
       " '<p><span style=\\\\\"font-family: \\\\u5B8B\\\\u4F53; font-size: 9pt; mso-ascii-theme-font: minor-fareast; mso-fareast-theme-font: minor-fareast; mso-hansi-theme-font: minor-fareast; mso-bidi-font-family: &quot;Times New Roman&quot;; mso-bidi-theme-font: minor-bidi; mso-ansi-language: EN-US; mso-fareast-language: ZH-CN; mso-bidi-language: AR-SA; mso-bidi-font-weight: bold;\\\\\"  ><span style=\\\\\"color: rgb(0, 0, 0);\\\\\"  >\\\\u6C14\\\\u8C61\\\\u6761\\\\u4EF6</span></span></p>',\n",
       " '<p><span style=\\\\\"font-family: \\\\u5B8B\\\\u4F53; font-size: 9pt; mso-ascii-theme-font: minor-fareast; mso-fareast-theme-font: minor-fareast; mso-hansi-theme-font: minor-fareast; mso-bidi-font-family: &quot;Times New Roman&quot;; mso-bidi-theme-font: minor-bidi; mso-ansi-language: EN-US; mso-fareast-language: ZH-CN; mso-bidi-language: AR-SA; mso-bidi-font-weight: bold;\\\\\"  ><span style=\\\\\"color: rgb(0, 0, 0);\\\\\"  >\\\\u76EE\\\\u6807\\\\u7684\\\\u7279\\\\u5F81\\\\u4FE1\\\\u606F</span></span></p>',\n",
       " '<p><span style=\\\\\"font-family: \\\\u5B8B\\\\u4F53; font-size: 9pt; mso-ascii-theme-font: minor-fareast; mso-fareast-theme-font: minor-fareast; mso-hansi-theme-font: minor-fareast; mso-bidi-font-family: &quot;Times New Roman&quot;; mso-bidi-theme-font: minor-bidi; mso-ansi-language: EN-US; mso-fareast-language: ZH-CN; mso-bidi-language: AR-SA;\\\\\"  ><span style=\\\\\"color: rgb(0, 0, 0);\\\\\"  >\\\\u4FA6\\\\u5BDF\\\\u76D1\\\\u89C6\\\\u7684\\\\u89D2\\\\u5EA6</span></span></p>',\n",
       " '<p><span style=\\\\\"font-family: \\\\u5B8B\\\\u4F53; font-size: 9pt; mso-ascii-theme-font: minor-fareast; mso-fareast-theme-font: minor-fareast; mso-hansi-theme-font: minor-fareast; mso-bidi-font-family: &quot;Times New Roman&quot;; mso-bidi-theme-font: minor-bidi; mso-ansi-language: EN-US; mso-fareast-language: ZH-CN; mso-bidi-language: AR-SA; mso-bidi-font-weight: bold;\\\\\"  ><span style=\\\\\"color: rgb(0, 0, 0);\\\\\"  >\\\\u5730\\\\u5F62\\\\u5730\\\\u7269</span></span></p>',\n",
       " '<p><span style=\\\\\"font-family: \\\\u5B8B\\\\u4F53; font-size: 9pt; mso-ascii-theme-font: minor-fareast; mso-fareast-theme-font: minor-fareast; mso-hansi-theme-font: minor-fareast; mso-bidi-font-family: &quot;Times New Roman&quot;; mso-ansi-language: EN-US; mso-fareast-language: ZH-CN; mso-bidi-language: AR-SA; mso-bidi-font-weight: bold; mso-font-kerning: 0pt;\\\\\"  ><span style=\\\\\"color: rgb(0, 0, 0);\\\\\"  >\\\\u4FA6\\\\u5BDF\\\\u653B\\\\u51FB\\\\u4E00\\\\u4F53\\\\u5316</span></span></p>',\n",
       " '<p><span style=\\\\\"font-family: \\\\u5B8B\\\\u4F53; font-size: 9pt; mso-ascii-theme-font: minor-fareast; mso-fareast-theme-font: minor-fareast; mso-hansi-theme-font: minor-fareast; mso-bidi-font-family: &quot;Times New Roman&quot;; mso-ansi-language: EN-US; mso-fareast-language: ZH-CN; mso-bidi-language: AR-SA; mso-bidi-font-weight: bold; mso-font-kerning: 0pt;\\\\\"  ><span style=\\\\\"color: rgb(0, 0, 0);\\\\\"  >\\\\u4FA6\\\\u5BDF\\\\u901F\\\\u5EA6\\\\u4E0A\\\\u5B9E\\\\u65F6\\\\u5316</span></span></p>',\n",
       " '<p><span style=\\\\\"font-family: \\\\u5B8B\\\\u4F53; font-size: 9pt; mso-ascii-theme-font: minor-fareast; mso-fareast-theme-font: minor-fareast; mso-hansi-theme-font: minor-fareast; mso-bidi-font-family: &quot;Times New Roman&quot;; mso-ansi-language: EN-US; mso-fareast-language: ZH-CN; mso-bidi-language: AR-SA; mso-bidi-font-weight: bold; mso-font-kerning: 0pt;\\\\\"  ><span style=\\\\\"color: rgb(0, 0, 0);\\\\\"  >\\\\u4FA6\\\\u5BDF\\\\u76EE\\\\u7684\\\\u975E\\\\u519B\\\\u4E8B\\\\u5316</span></span></p>',\n",
       " '<p><span style=\\\\\"font-family: \\\\u5B8B\\\\u4F53; font-size: 9pt; mso-ascii-theme-font: minor-fareast; mso-fareast-theme-font: minor-fareast; mso-hansi-theme-font: minor-fareast; mso-bidi-font-family: &quot;Times New Roman&quot;; mso-ansi-language: EN-US; mso-fareast-language: ZH-CN; mso-bidi-language: AR-SA; mso-bidi-font-weight: bold; mso-font-kerning: 0pt;\\\\\"  ><span style=\\\\\"color: rgb(0, 0, 0);\\\\\"  >\\\\u4FA6\\\\u5BDF\\\\u624B\\\\u6BB5\\\\u4E0A\\\\u7684\\\\u7EFC\\\\u5408\\\\u5316</span></span></p>',\n",
       " '<p><span style=\\\\\"font-family: \\\\u5B8B\\\\u4F53; font-size: 9pt; mso-ascii-theme-font: minor-fareast; mso-fareast-theme-font: minor-fareast; mso-hansi-theme-font: minor-fareast; mso-bidi-font-family: &quot;Times New Roman&quot;; mso-bidi-theme-font: minor-bidi; mso-ansi-language: EN-US; mso-fareast-language: ZH-CN; mso-bidi-language: AR-SA;\\\\\"  ><span style=\\\\\"color: rgb(0, 0, 0);\\\\\"  >\\\\u88AB\\\\u52A8\\\\u63A2\\\\u6D4B\\\\u65B9\\\\u5F0F\\\\u4F18\\\\u70B9\\\\u5BB9\\\\u6613\\\\u9690\\\\u853D\\\\u81EA\\\\u8EAB\\\\u3002</span></span></p>',\n",
       " '<p><span style=\\\\\"font-family: \\\\u5B8B\\\\u4F53; font-size: 9pt; mso-ascii-theme-font: minor-fareast; mso-fareast-theme-font: minor-fareast; mso-hansi-theme-font: minor-fareast; mso-bidi-font-family: &quot;Times New Roman&quot;; mso-bidi-theme-font: minor-bidi; mso-ansi-language: EN-US; mso-fareast-language: ZH-CN; mso-bidi-language: AR-SA;\\\\\"  ><span style=\\\\\"color: rgb(0, 0, 0);\\\\\"  >\\\\u88AB\\\\u52A8\\\\u63A2\\\\u6D4B\\\\u65B9\\\\u5F0F\\\\u4F18\\\\u70B9\\\\u63A2\\\\u6D4B\\\\u6548\\\\u679C\\\\u975E\\\\u5E38\\\\u597D\\\\uFF0C\\\\u7F3A\\\\u70B9\\\\u5BB9\\\\u6613\\\\u66B4\\\\u9732\\\\u81EA\\\\u5DF1\\\\u3002</span></span></p>',\n",
       " '<p><span id=\\\\\"_baidu_bookmark_start_640\\\\\"  style=\\\\\"line-height: 0px; display: none;\\\\\"  >\\\\u200D</span><span style=\\\\\"font-family: \\\\u5B8B\\\\u4F53; font-size: 9pt; mso-ascii-theme-font: minor-fareast; mso-fareast-theme-font: minor-fareast; mso-hansi-theme-font: minor-fareast; mso-bidi-font-family: &quot;Times New Roman&quot;; mso-bidi-theme-font: minor-bidi; mso-ansi-language: EN-US; mso-fareast-language: ZH-CN; mso-bidi-language: AR-SA;\\\\\"  ><span style=\\\\\"color: rgb(0, 0, 0);\\\\\"  >\\\\u4E3B\\\\u52A8\\\\u63A2\\\\u6D4B\\\\u65B9\\\\u5F0F\\\\u7F3A\\\\u70B9\\\\u5BB9\\\\u6613\\\\u66B4\\\\u9732\\\\u81EA\\\\u5DF1\\\\u3002</span></span></p>',\n",
       " '<p><span style=\\\\\"font-family: \\\\u5B8B\\\\u4F53; font-size: 9pt; mso-ascii-theme-font: minor-fareast; mso-fareast-theme-font: minor-fareast; mso-hansi-theme-font: minor-fareast; mso-bidi-font-family: &quot;Times New Roman&quot;; mso-bidi-theme-font: minor-bidi; mso-ansi-language: EN-US; mso-fareast-language: ZH-CN; mso-bidi-language: AR-SA;\\\\\"  ><span style=\\\\\"color: rgb(0, 0, 0);\\\\\"  >\\\\u4E3B\\\\u52A8\\\\u63A2\\\\u6D4B\\\\u65B9\\\\u5F0F\\\\u4F18\\\\u70B9\\\\u5BB9\\\\u6613\\\\u9690\\\\u853D\\\\u81EA\\\\u8EAB\\\\uFF0C\\\\u7F3A\\\\u70B9\\\\u4FA6\\\\u5BDF\\\\u6548\\\\u679C\\\\u5DEE\\\\u3002</span></span></p>',\n",
       " '<p><span style=\\\\\"font-family: \\\\u5B8B\\\\u4F53; font-size: 9pt; mso-ascii-theme-font: minor-fareast; mso-fareast-theme-font: minor-fareast; mso-hansi-theme-font: minor-fareast; mso-bidi-font-family: &quot;Times New Roman&quot;; mso-bidi-theme-font: minor-bidi; mso-ansi-language: EN-US; mso-fareast-language: ZH-CN; mso-bidi-language: AR-SA;\\\\\"  ><span style=\\\\\"color: rgb(0, 0, 0);\\\\\"  >\\\\u6218\\\\u672F\\\\u4FA6\\\\u5BDF</span></span></p>',\n",
       " '<p><span style=\\\\\"font-family: \\\\u5B8B\\\\u4F53; font-size: 9pt; mso-ascii-theme-font: minor-fareast; mso-fareast-theme-font: minor-fareast; mso-hansi-theme-font: minor-fareast; mso-bidi-font-family: &quot;Times New Roman&quot;; mso-bidi-theme-font: minor-bidi; mso-ansi-language: EN-US; mso-fareast-language: ZH-CN; mso-bidi-language: AR-SA;\\\\\"  ><span style=\\\\\"color: rgb(0, 0, 0);\\\\\"  >\\\\u6218\\\\u7565\\\\u4FA6\\\\u5BDF</span></span></p>',\n",
       " '<p><span style=\\\\\"font-family: \\\\u5B8B\\\\u4F53; font-size: 9pt; mso-ascii-theme-font: minor-fareast; mso-fareast-theme-font: minor-fareast; mso-hansi-theme-font: minor-fareast; mso-bidi-font-family: &quot;Times New Roman&quot;; mso-bidi-theme-font: minor-bidi; mso-ansi-language: EN-US; mso-fareast-language: ZH-CN; mso-bidi-language: AR-SA;\\\\\"  ><span style=\\\\\"color: rgb(0, 0, 0);\\\\\"  >\\\\u6218\\\\u6597\\\\u4FA6\\\\u5BDF</span></span></p>',\n",
       " '<p><span style=\\\\\"font-family: \\\\u5B8B\\\\u4F53; font-size: 9pt; mso-ascii-theme-font: minor-fareast; mso-fareast-theme-font: minor-fareast; mso-hansi-theme-font: minor-fareast; mso-bidi-font-family: &quot;Times New Roman&quot;; mso-bidi-theme-font: minor-bidi; mso-ansi-language: EN-US; mso-fareast-language: ZH-CN; mso-bidi-language: AR-SA;\\\\\"  ><span style=\\\\\"color: rgb(0, 0, 0);\\\\\"  >\\\\u6218\\\\u5F79\\\\u4FA6\\\\u5BDF</span></span></p>']"
      ]
     },
     "execution_count": 3,
     "metadata": {},
     "output_type": "execute_result"
    }
   ],
   "source": [
    "# code here!\n",
    "import os\n",
    "import re\n",
    "a= open(\"data.txt\",\"r\",encoding='utf-8')\n",
    "string = a.read()\n",
    "a.close()\n",
    "p = re.compile(r'content=\\\"(.*)\";')\n",
    "p.findall(string)\n"
   ]
  },
  {
   "cell_type": "markdown",
   "metadata": {},
   "source": [
    "# 4.手动实现`mysplit`函数,要求具有和`split`完全一样的功能"
   ]
  },
  {
   "cell_type": "code",
   "execution_count": 1,
   "metadata": {},
   "outputs": [
    {
     "name": "stdout",
     "output_type": "stream",
     "text": [
      "[\"Xi\\\\'an\", 'iaotong', 'University', 'is', 'a', 'jail!']\n"
     ]
    }
   ],
   "source": [
    "def my_split(string, character):\n",
    "    a = list(string)  # 把字符串分割成单个字符\n",
    "    als = \"\"\n",
    "    res = []\n",
    "    for i in string:\n",
    "        if i == character:\n",
    "            res.append(als)\n",
    "            als = \"\"\n",
    "        else:\n",
    "            als = als + i\n",
    "    res.append(als)\n",
    "    return res\n",
    "print(my_split(r\"Xi\\'an#iaotong#University#is#a#jail!\", \"#\"))\n"
   ]
  },
  {
   "cell_type": "code",
   "execution_count": null,
   "metadata": {},
   "outputs": [],
   "source": []
  },
  {
   "cell_type": "code",
   "execution_count": null,
   "metadata": {},
   "outputs": [],
   "source": []
  }
 ],
 "metadata": {
  "kernelspec": {
   "display_name": "Python 3",
   "language": "python",
   "name": "python3"
  },
  "language_info": {
   "codemirror_mode": {
    "name": "ipython",
    "version": 3
   },
   "file_extension": ".py",
   "mimetype": "text/x-python",
   "name": "python",
   "nbconvert_exporter": "python",
   "pygments_lexer": "ipython3",
   "version": "3.7.9"
  }
 },
 "nbformat": 4,
 "nbformat_minor": 4
}
