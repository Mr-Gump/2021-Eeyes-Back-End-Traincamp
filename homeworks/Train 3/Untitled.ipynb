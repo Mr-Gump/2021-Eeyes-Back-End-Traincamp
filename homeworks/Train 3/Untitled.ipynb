{
 "cells": [
  {
   "cell_type": "markdown",
   "id": "textile-boxing",
   "metadata": {},
   "source": [
    "from random import *\n",
    "\n",
    "l = []\n",
    "chart = []\n",
    "n = int(input(\"输入模拟次数\"))\n",
    "num = int(input(\"输入总人数\"))\n",
    "total = float(input(\"输入总金额\"))\n",
    "\n",
    "\n",
    "def distribute(num, total):\n",
    "    each = []\n",
    "    total = total * 100\n",
    "    for i in range(num - 1):\n",
    "        chart.append(randint(1, 100))\n",
    "        p = int(total * random() / (sum(chart)))\n",
    "        if p == 0 & i >= 2:\n",
    "            p = 1\n",
    "            each[each.index(max(each))] = each[each.index(max(each))] - 0.01\n",
    "        current = randint(p, int((total - (num - i - 2))/2))\n",
    "        each.append(round(current * 0.01, 2))\n",
    "        total = total - current\n",
    "    if total == 0 :\n",
    "        total = 1\n",
    "    each[each.index(max(each))] = round(each[each.index(max(each))] - 0.01)\n",
    "    shuffle(each)\n",
    "    each.append(round(total * 0.01, 2))\n",
    "    return each\n",
    "\n",
    "\n",
    "for i in range(n):\n",
    "    print(distribute(num,total))\n",
    "    "
   ]
  },
  {
   "cell_type": "code",
   "execution_count": null,
   "id": "generic-bookmark",
   "metadata": {},
   "outputs": [],
   "source": [
    "import os\n",
    "from pathlib import Path\n",
    "count=dict()\n",
    "src = input(\"文件目录\")\n",
    "for root, dirs, files in os.walk(src):\n",
    "    a = root  # a的值为当前遍历的路径\n",
    "    for file in files:\n",
    "        f =Path(file).suffix  \n",
    "        if f in count: \n",
    "            count[f]=count[f]+1 \n",
    "        else:\n",
    "            count[f]=1\n",
    "name=count.keys()\n",
    "for i in name:\n",
    "    print(i,count[i])\n"
   ]
  },
  {
   "cell_type": "code",
   "execution_count": 6,
   "id": "finished-projection",
   "metadata": {},
   "outputs": [
    {
     "ename": "FileNotFoundError",
     "evalue": "[Errno 2] No such file or directory: 'data.txt'",
     "output_type": "error",
     "traceback": [
      "\u001b[1;31m---------------------------------------------------------------------------\u001b[0m",
      "\u001b[1;31mFileNotFoundError\u001b[0m                         Traceback (most recent call last)",
      "\u001b[1;32m<ipython-input-6-7750890ed44e>\u001b[0m in \u001b[0;36m<module>\u001b[1;34m\u001b[0m\n\u001b[0;32m      1\u001b[0m \u001b[1;32mimport\u001b[0m \u001b[0mos\u001b[0m\u001b[1;33m\u001b[0m\u001b[1;33m\u001b[0m\u001b[0m\n\u001b[0;32m      2\u001b[0m \u001b[1;32mimport\u001b[0m \u001b[0mre\u001b[0m\u001b[1;33m\u001b[0m\u001b[1;33m\u001b[0m\u001b[0m\n\u001b[1;32m----> 3\u001b[1;33m \u001b[0ma\u001b[0m\u001b[1;33m=\u001b[0m \u001b[0mopen\u001b[0m\u001b[1;33m(\u001b[0m\u001b[1;34m\"data.txt\"\u001b[0m\u001b[1;33m,\u001b[0m\u001b[1;34m\"r\"\u001b[0m\u001b[1;33m,\u001b[0m\u001b[0mencoding\u001b[0m\u001b[1;33m=\u001b[0m\u001b[1;34m'utf-8'\u001b[0m\u001b[1;33m)\u001b[0m\u001b[1;33m\u001b[0m\u001b[1;33m\u001b[0m\u001b[0m\n\u001b[0m\u001b[0;32m      4\u001b[0m \u001b[0mstring\u001b[0m \u001b[1;33m=\u001b[0m \u001b[0ma\u001b[0m\u001b[1;33m.\u001b[0m\u001b[0mread\u001b[0m\u001b[1;33m(\u001b[0m\u001b[1;33m)\u001b[0m\u001b[1;33m\u001b[0m\u001b[1;33m\u001b[0m\u001b[0m\n\u001b[0;32m      5\u001b[0m \u001b[0mcontent\u001b[0m\u001b[1;33m=\u001b[0m\u001b[1;33m(\u001b[0m\u001b[1;34m'.*answer=true.*content=\"(.*)\"'\u001b[0m\u001b[1;33m)\u001b[0m\u001b[1;33m\u001b[0m\u001b[1;33m\u001b[0m\u001b[0m\n",
      "\u001b[1;31mFileNotFoundError\u001b[0m: [Errno 2] No such file or directory: 'data.txt'"
     ]
    }
   ],
   "source": [
    "import os\n",
    "import re\n",
    "a= open(\"data.txt\",\"r\",encoding='utf-8')\n",
    "string = a.read()\n",
    "content=('.*answer=true.*content=\"(.*)\"')\n",
    "p = re.compile(content)\n",
    "p.findall(string)"
   ]
  },
  {
   "cell_type": "code",
   "execution_count": 7,
   "id": "living-cause",
   "metadata": {},
   "outputs": [
    {
     "name": "stdout",
     "output_type": "stream",
     "text": [
      "['ad', '', ' xian xaisdkasd asd']\n"
     ]
    }
   ],
   "source": [
    "def my_split(string, deli):\n",
    "    a = list(string)  # 把字符串分割成单个字符\n",
    "    als = \"\"\n",
    "    res = []\n",
    "    for i in string:\n",
    "        if i == deli:\n",
    "            res.append(als)\n",
    "            als = \"\"\n",
    "        else:\n",
    "            als = als + i\n",
    "    res.append(als)\n",
    "    return res\n",
    "p=\"ad,, xian xaisdkasd asd\"\n",
    "print(my_split(p,\",\"))"
   ]
  },
  {
   "cell_type": "code",
   "execution_count": 10,
   "id": "adolescent-housing",
   "metadata": {},
   "outputs": [
    {
     "name": "stdout",
     "output_type": "stream",
     "text": [
      "杨辉三角的行数10\n",
      "[1]\n",
      "[1, 1]\n",
      "[1, 2, 1]\n",
      "[1, 3, 3, 1]\n",
      "[1, 4, 6, 4, 1]\n",
      "[1, 5, 10, 10, 5, 1]\n",
      "[1, 6, 15, 20, 15, 6, 1]\n",
      "[1, 7, 21, 35, 35, 21, 7, 1]\n",
      "[1, 8, 28, 56, 70, 56, 28, 8, 1]\n",
      "[1, 9, 36, 84, 126, 126, 84, 36, 9, 1]\n"
     ]
    }
   ],
   "source": [
    "n = int(input(\"杨辉三角的行数\")) - 1\n",
    "line = [1]\n",
    "for i in range(1, (n + 2)):\n",
    "    # 由于代码思路的问题，最后一项并不是1，因此在此输出上一次计算的结果\n",
    "    print(line)\n",
    "    line = [1]\n",
    "    a = 1\n",
    "    b = 1\n",
    "    for j in range(i, 1, -1):\n",
    "        # 通过公式进行计算\n",
    "        a = int(a * j / b)\n",
    "        b = b + 1\n",
    "        line.append(a)\n",
    "    # 为了结尾有个1\n",
    "    line.append(1)"
   ]
  },
  {
   "cell_type": "code",
   "execution_count": null,
   "id": "green-difficulty",
   "metadata": {},
   "outputs": [],
   "source": [
    "a = []\n",
    "for i in range(3):\n",
    "    a.append([])\n",
    "    for j in range(3):\n",
    "        a[i].append([])\n",
    "for i in range(9):\n",
    "    row, line, num = map(int, input(\"请输入第i行，第j列，以及你想填的符号的符号(1或0)\").split())\n",
    "    a[row-1][line-1]=int(num)\n",
    "if ((a[0][0] + a[0][1] + a[0][2]) or (a[1][0] + a[1][1] + a[1][2]) or (a[2][0] + a[2][1] + a[2][2]) or (\n",
    "        a[0][0] + a[1][0] + a[2][0]) or (a[0][1] + a[1][1] + a[2][1]) or (a[0][2] + a[1][2] + a[2][2]) or (\n",
    "            a[0][0] + a[1][1] + a[2][2]) or (a[2][0] + a[1][1] + a[0][2])) == 3:\n",
    "    print(\"1方胜)\n",
    "elif ((a[0][0] + a[0][1] + a[0][2]) or (a[1][0] + a[1][1] + a[1][2]) or (a[2][0] + a[2][1] + a[2][2]) or (\n",
    "        a[0][2] + a[1][2] + a[2][2]) or (a[0][0] + a[1][1] + a[2][2]) or (a[2][0] + a[1][1] + a[0][2])) == 0:\n",
    "    print(\"0方胜\")\n",
    "else:\n",
    "    print(\"draw\")"
   ]
  }
 ],
 "metadata": {
  "kernelspec": {
   "display_name": "Python 3",
   "language": "python",
   "name": "python3"
  },
  "language_info": {
   "codemirror_mode": {
    "name": "ipython",
    "version": 3
   },
   "file_extension": ".py",
   "mimetype": "text/x-python",
   "name": "python",
   "nbconvert_exporter": "python",
   "pygments_lexer": "ipython3",
   "version": "3.7.9"
  }
 },
 "nbformat": 4,
 "nbformat_minor": 5
}
