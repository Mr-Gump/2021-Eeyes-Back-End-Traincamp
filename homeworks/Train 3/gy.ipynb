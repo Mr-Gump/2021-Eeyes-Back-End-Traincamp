{
 "cells": [
  {
   "cell_type": "markdown",
   "id": "lasting-toilet",
   "metadata": {},
   "source": [
    "## 制作一个抢红包小程序,即输入人数和金额,打印每个红包的金额"
   ]
  },
  {
   "cell_type": "code",
   "execution_count": 1,
   "id": "guilty-warrior",
   "metadata": {},
   "outputs": [
    {
     "name": "stdout",
     "output_type": "stream",
     "text": [
      "人数：59\n",
      "钱数：87\n",
      "第1个红包的金额为：2.24\n",
      "第2个红包的金额为：1.68\n",
      "第3个红包的金额为：2.35\n",
      "第4个红包的金额为：2.15\n",
      "第5个红包的金额为：0.09\n",
      "第6个红包的金额为：1.89\n",
      "第7个红包的金额为：0.43\n",
      "第8个红包的金额为：2.71\n",
      "第9个红包的金额为：1.95\n",
      "第10个红包的金额为：2.14\n",
      "第11个红包的金额为：1.54\n",
      "第12个红包的金额为：0.14\n",
      "第13个红包的金额为：0.97\n",
      "第14个红包的金额为：1.29\n",
      "第15个红包的金额为：0.79\n",
      "第16个红包的金额为：2.08\n",
      "第17个红包的金额为：2.12\n",
      "第18个红包的金额为：1.38\n",
      "第19个红包的金额为：1.4\n",
      "第20个红包的金额为：1.26\n",
      "第21个红包的金额为：1.31\n",
      "第22个红包的金额为：1.32\n",
      "第23个红包的金额为：1.9\n",
      "第24个红包的金额为：0.45\n",
      "第25个红包的金额为：0.14\n",
      "第26个红包的金额为：2.48\n",
      "第27个红包的金额为：0.99\n",
      "第28个红包的金额为：0.5\n",
      "第29个红包的金额为：0.37\n",
      "第30个红包的金额为：1.45\n",
      "第31个红包的金额为：1.63\n",
      "第32个红包的金额为：1.04\n",
      "第33个红包的金额为：0.89\n",
      "第34个红包的金额为：1.82\n",
      "第35个红包的金额为：2.4\n",
      "第36个红包的金额为：2.08\n",
      "第37个红包的金额为：0.44\n",
      "第38个红包的金额为：0.91\n",
      "第39个红包的金额为：1.97\n",
      "第40个红包的金额为：1.57\n",
      "第41个红包的金额为：1.22\n",
      "第42个红包的金额为：0.89\n",
      "第43个红包的金额为：1.38\n",
      "第44个红包的金额为：2.36\n",
      "第45个红包的金额为：1.11\n",
      "第46个红包的金额为：2.86\n",
      "第47个红包的金额为：0.71\n",
      "第48个红包的金额为：2.26\n",
      "第49个红包的金额为：1.6\n",
      "第50个红包的金额为：2.34\n",
      "第51个红包的金额为：2.32\n",
      "第52个红包的金额为：2.6\n",
      "第53个红包的金额为：0.81\n",
      "第54个红包的金额为：0.9\n",
      "第55个红包的金额为：0.75\n",
      "第56个红包的金额为：2.32\n",
      "第57个红包的金额为：1.63\n",
      "第58个红包的金额为：2.17\n",
      "第59个红包的金额为：0.51\n"
     ]
    }
   ],
   "source": [
    "from random import *\n",
    "\n",
    "def redbag(ren, qian):\n",
    "    renlist = []\n",
    "    rand = []\n",
    "    qianlist = []\n",
    "    a = 1\n",
    "    for i in range(ren):\n",
    "        renlist.append(a)\n",
    "        a = a + 1\n",
    "        rand.append(random())\n",
    "    for i in range(ren):\n",
    "        qianlist.append(round(qian * rand[i] / sum(rand), 2))\n",
    "    return renlist, qianlist\n",
    "\n",
    "r = float(input('人数：'))\n",
    "if r != int(r) or r <= 0:\n",
    "    print(f'不存在{r}个人')\n",
    "    exit()\n",
    "else:\n",
    "    r = int(r)\n",
    "q = float(input('钱数：'))\n",
    "if q*100 < r:\n",
    "    print(f'{r}个朋友分{int(q*100)}分，给点面子行不行?')\n",
    "    exit()\n",
    "\n",
    "renlist, qianlist = redbag(r, q)\n",
    "\n",
    "for i in range(r):\n",
    "    print(f'第{renlist[i]}个红包的金额为：{qianlist[i]}')"
   ]
  },
  {
   "cell_type": "markdown",
   "id": "greatest-pharmacy",
   "metadata": {},
   "source": [
    "## 随便给一个文件夹路径,统计里面文件种类和对应数量,并输出  `os.walk`"
   ]
  },
  {
   "cell_type": "code",
   "execution_count": 2,
   "id": "cloudy-muslim",
   "metadata": {},
   "outputs": [
    {
     "name": "stdout",
     "output_type": "stream",
     "text": [
      "请输入文件夹路径:D:\\QQ消息记录\\923107995\\FileRecv\\1\n",
      "{'.pdf': 18, '.doc': 2, '.md': 1, '.docx': 2, '.xlsx': 1, '.7z': 2, '.zip': 2, '.pptx': 1}\n"
     ]
    }
   ],
   "source": [
    "import os\n",
    "\n",
    "def count_type(path):\n",
    "    a={}\n",
    "    for root, dirs, files in os.walk(path):\n",
    "        for i in files:\n",
    "            a.setdefault(os.path.splitext(i)[1], 0)\n",
    "            a[os.path.splitext(i)[1]] += 1\n",
    "    return a\n",
    "\n",
    "path = input('请输入文件夹路径:')\n",
    "print(count_type(path))"
   ]
  },
  {
   "cell_type": "markdown",
   "id": "drawn-commitment",
   "metadata": {},
   "source": [
    "## 在给定的文件中匹配给定样式的所有字符串并打印"
   ]
  },
  {
   "cell_type": "code",
   "execution_count": 9,
   "id": "adolescent-champagne",
   "metadata": {},
   "outputs": [
    {
     "ename": "FileNotFoundError",
     "evalue": "[Errno 2] No such file or directory: 'test.txt'",
     "output_type": "error",
     "traceback": [
      "\u001b[1;31m---------------------------------------------------------------------------\u001b[0m",
      "\u001b[1;31mFileNotFoundError\u001b[0m                         Traceback (most recent call last)",
      "\u001b[1;32m<ipython-input-9-9a21ad9baf1c>\u001b[0m in \u001b[0;36m<module>\u001b[1;34m\u001b[0m\n\u001b[0;32m      1\u001b[0m \u001b[1;32mimport\u001b[0m \u001b[0mos\u001b[0m\u001b[1;33m\u001b[0m\u001b[1;33m\u001b[0m\u001b[0m\n\u001b[0;32m      2\u001b[0m \u001b[1;32mimport\u001b[0m \u001b[0mre\u001b[0m\u001b[1;33m\u001b[0m\u001b[1;33m\u001b[0m\u001b[0m\n\u001b[1;32m----> 3\u001b[1;33m \u001b[0ma\u001b[0m \u001b[1;33m=\u001b[0m \u001b[0mopen\u001b[0m\u001b[1;33m(\u001b[0m\u001b[1;34m\"test.txt\"\u001b[0m\u001b[1;33m)\u001b[0m\u001b[1;33m\u001b[0m\u001b[1;33m\u001b[0m\u001b[0m\n\u001b[0m\u001b[0;32m      4\u001b[0m \u001b[0mb\u001b[0m \u001b[1;33m=\u001b[0m \u001b[0ma\u001b[0m\u001b[1;33m.\u001b[0m\u001b[0mread\u001b[0m\u001b[1;33m(\u001b[0m\u001b[1;33m)\u001b[0m\u001b[1;33m\u001b[0m\u001b[1;33m\u001b[0m\u001b[0m\n\u001b[0;32m      5\u001b[0m \u001b[0mcontent\u001b[0m\u001b[1;33m=\u001b[0m\u001b[1;33m(\u001b[0m\u001b[1;34m'.*answer=true.*content=\"(.*)\"'\u001b[0m\u001b[1;33m)\u001b[0m\u001b[1;33m\u001b[0m\u001b[1;33m\u001b[0m\u001b[0m\n",
      "\u001b[1;31mFileNotFoundError\u001b[0m: [Errno 2] No such file or directory: 'test.txt'"
     ]
    }
   ],
   "source": [
    "import os\n",
    "import re\n",
    "a = open(\"test.txt\")\n",
    "b = a.read()\n",
    "content=('.*answer=true.*content=\"(.*)\"')\n",
    "p = re.compile(content)\n",
    "print(p.findall(b))"
   ]
  },
  {
   "cell_type": "markdown",
   "id": "basic-sequence",
   "metadata": {},
   "source": [
    "实在想不通该怎么打开"
   ]
  },
  {
   "cell_type": "markdown",
   "id": "spare-census",
   "metadata": {},
   "source": [
    "## 手动实现`my_split`函数"
   ]
  },
  {
   "cell_type": "code",
   "execution_count": 10,
   "id": "composed-spray",
   "metadata": {},
   "outputs": [
    {
     "name": "stdout",
     "output_type": "stream",
     "text": [
      "被加工文本:899556.65656.9.5.7878.78788.98989656.323231215487.45132.6\n",
      "分割符:.\n",
      "['899556', '65656', '9', '5', '7878', '78788', '98989656', '323231215487', '45132', '6']\n"
     ]
    }
   ],
   "source": [
    "def my_split(string , fenge):\n",
    "\n",
    "    result = []\n",
    "    start_location = 0\n",
    "    end_location = 0\n",
    "\n",
    "    for i in string:\n",
    "        end_location += 1\n",
    "        if i == fenge:\n",
    "            result.append(string[start_location:end_location - 1])\n",
    "            start_location = end_location\n",
    "    result.append(string[start_location:])\n",
    "\n",
    "    return result\n",
    "\n",
    "str=input('被加工文本:')\n",
    "fenge=input('分割符:')\n",
    "\n",
    "print(my_split(str , fenge))\n"
   ]
  },
  {
   "cell_type": "markdown",
   "id": "abstract-partner",
   "metadata": {},
   "source": [
    "## 杨辉三角"
   ]
  },
  {
   "cell_type": "code",
   "execution_count": 11,
   "id": "cathedral-enterprise",
   "metadata": {},
   "outputs": [
    {
     "name": "stdout",
     "output_type": "stream",
     "text": [
      "请输入想要的杨辉三角的行数\n",
      ">>>15\n",
      "[1]\n",
      "[1, 1]\n",
      "[1, 2, 1]\n",
      "[1, 3, 3, 1]\n",
      "[1, 4, 6, 4, 1]\n",
      "[1, 5, 10, 10, 5, 1]\n",
      "[1, 6, 15, 20, 15, 6, 1]\n",
      "[1, 7, 21, 35, 35, 21, 7, 1]\n",
      "[1, 8, 28, 56, 70, 56, 28, 8, 1]\n",
      "[1, 9, 36, 84, 126, 126, 84, 36, 9, 1]\n",
      "[1, 10, 45, 120, 210, 252, 210, 120, 45, 10, 1]\n",
      "[1, 11, 55, 165, 330, 462, 462, 330, 165, 55, 11, 1]\n",
      "[1, 12, 66, 220, 495, 792, 924, 792, 495, 220, 66, 12, 1]\n",
      "[1, 13, 78, 286, 715, 1287, 1716, 1716, 1287, 715, 286, 78, 13, 1]\n",
      "[1, 14, 91, 364, 1001, 2002, 3003, 3432, 3003, 2002, 1001, 364, 91, 14, 1]\n"
     ]
    }
   ],
   "source": [
    "def njiecheng(n):\n",
    "    i = 1\n",
    "    k = 1\n",
    "    while k <= n:\n",
    "        i = i*k\n",
    "        k += 1\n",
    "    return i\n",
    "\n",
    "line = [1]\n",
    "\n",
    "n = float(input('请输入想要的杨辉三角的行数\\n>>>'))\n",
    "if n != int(n):\n",
    "    print(f'你他娘的给我翻译翻译什么叫{n}行的杨辉三角!!!')\n",
    "elif n <= 0:\n",
    "    n = int(n)\n",
    "    print(f'你他娘的给我翻译翻译什么叫{n}行的杨辉三角!!!')\n",
    "else:\n",
    "    n=int(n)\n",
    "    print(line)\n",
    "    for i in range(1,n):\n",
    "        linei=[]\n",
    "        for j in range(len(line)+1):\n",
    "            linei.append(int(njiecheng(i)/(njiecheng(j)*njiecheng(i-j))))\n",
    "            line = linei\n",
    "        print(linei)"
   ]
  },
  {
   "cell_type": "markdown",
   "id": "small-investment",
   "metadata": {},
   "source": [
    "#字棋还有大BUG，明天再看看"
   ]
  }
 ],
 "metadata": {
  "kernelspec": {
   "display_name": "Python 3",
   "language": "python",
   "name": "python3"
  },
  "language_info": {
   "codemirror_mode": {
    "name": "ipython",
    "version": 3
   },
   "file_extension": ".py",
   "mimetype": "text/x-python",
   "name": "python",
   "nbconvert_exporter": "python",
   "pygments_lexer": "ipython3",
   "version": "3.7.9"
  }
 },
 "nbformat": 4,
 "nbformat_minor": 5
}
