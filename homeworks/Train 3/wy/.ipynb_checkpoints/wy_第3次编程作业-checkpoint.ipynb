{
 "cells": [
  {
   "cell_type": "markdown",
   "id": "oriental-function",
   "metadata": {},
   "source": [
    "# Train3"
   ]
  },
  {
   "cell_type": "markdown",
   "id": "floating-extraction",
   "metadata": {},
   "source": [
    "## 1.打印杨辉三角"
   ]
  },
  {
   "cell_type": "code",
   "execution_count": null,
   "id": "numeric-subcommittee",
   "metadata": {},
   "outputs": [],
   "source": [
    "line1 = [1]\n",
    "line2 = [1 , 1]\n",
    "line0 = line2\n",
    "\n",
    "n = int(input('想打印几行杨辉三角呢？'))\n",
    "print (line1)\n",
    "print (line2)\n",
    "\n",
    "for i in range(2,n):\n",
    "    linei = []\n",
    "    linei.append(1)\n",
    "    for j in range (len(line0)-1):\n",
    "        linei.append(line0[j] + line0[j+1])\n",
    "    linei.append(1)\n",
    "    print (linei)\n",
    "    line0 = linei"
   ]
  },
  {
   "cell_type": "markdown",
   "id": "charitable-throw",
   "metadata": {},
   "source": [
    "## 2.井字棋"
   ]
  },
  {
   "cell_type": "markdown",
   "id": "outer-emerald",
   "metadata": {},
   "source": [
    "### --人机大战"
   ]
  },
  {
   "cell_type": "code",
   "execution_count": null,
   "id": "quality-instrument",
   "metadata": {},
   "outputs": [],
   "source": [
    "# 给出棋盘\n",
    "game = [\n",
    "[1,1,1],\n",
    "[1,1,1],\n",
    "[1,1,1]]\n",
    "\n",
    "n = 0\n",
    "# player1下0，computer下2。当直线的和等于0/6时，游戏结束\n",
    "while (sum(game[0]) != 0 and sum(game[0]) != 6 \n",
    "    and sum(game[1]) != 0 and sum(game[1]) != 6 \n",
    "    and sum(game[2]) != 0 and sum(game[2]) != 6 \n",
    "\n",
    "    and game[0][0]+game[1][1]+game[2][2] != 0\n",
    "    and game[0][2]+game[1][1]+game[2][0] != 0\n",
    "    and game[0][0]+game[1][1]+game[2][2] != 6\n",
    "    and game[0][2]+game[1][1]+game[2][0] != 6      \n",
    "    \n",
    "    and game[0][0]+game[1][0]+game[2][0] != 0\n",
    "    and game[0][1]+game[1][1]+game[2][1] != 0\n",
    "    and game[0][2]+game[1][2]+game[2][2] != 0\n",
    "    and game[0][0]+game[1][0]+game[2][0] != 6\n",
    "    and game[0][1]+game[1][1]+game[2][1] != 6\n",
    "    and game[0][2]+game[1][2]+game[2][2] != 6):\n",
    "\n",
    "    n += 1\n",
    "# 打印棋盘\n",
    "    for i in game :\n",
    "        print(i)\n",
    "\n",
    "# 用坐标表示下棋的位置\n",
    "# Player1下棋\n",
    "    Position1 = int(input(\"Player1下哪个位置？\"))\n",
    "    game[Position1//10 -1][Position1%10 -1] = 0\n",
    "\n",
    "    if n == 5 :\n",
    "        print (\"平局，再来一盘吧\")\n",
    "        break  # 防止棋盘下满后死循环\n",
    "\n",
    "# computer下棋\n",
    "    import random\n",
    "    x , y = random.randint(1,3)-1 , random.randint(1,3)-1\n",
    "    while game[x][y] != 1:\n",
    "        x , y = random.randint(1,3)-1 , random.randint(1,3)-1\n",
    "    game[x][y] = 2\n",
    "\n",
    "# 判定胜负\n",
    "else:\n",
    "    for i in game :\n",
    "        print(i)\n",
    "    if (sum(game[0]) == 0\n",
    "    or sum(game[1]) == 0\n",
    "    or sum(game[2]) == 0\n",
    "\n",
    "    or game[0][0]+game[1][1]+game[2][2] == 0\n",
    "    or game[0][2]+game[1][1]+game[2][0] == 0\n",
    "    \n",
    "    or game[0][0]+game[1][0]+game[2][0] == 0\n",
    "    or game[0][1]+game[1][1]+game[2][1] == 0\n",
    "    or game[0][2]+game[1][2]+game[2][2] == 0):\n",
    "        print('Player 1 win!')\n",
    "    else:\n",
    "        print('电脑赢了 你个傻*')"
   ]
  },
  {
   "cell_type": "markdown",
   "id": "silent-inspector",
   "metadata": {},
   "source": [
    "### --双人游戏"
   ]
  },
  {
   "cell_type": "code",
   "execution_count": null,
   "id": "bibliographic-parcel",
   "metadata": {},
   "outputs": [],
   "source": [
    "# 给出棋盘\n",
    "game = [\n",
    "[1,1,1],\n",
    "[1,1,1],\n",
    "[1,1,1]]\n",
    "\n",
    "n = 0\n",
    "# player1下0，playe2下2。当直线的和等于0/6时，游戏结束\n",
    "while (sum(game[0]) != 0 and sum(game[0]) != 6 \n",
    "    and sum(game[1]) != 0 and sum(game[1]) != 6 \n",
    "    and sum(game[2]) != 0 and sum(game[2]) != 6 \n",
    "\n",
    "    and game[0][0]+game[1][1]+game[2][2] != 0\n",
    "    and game[0][2]+game[1][1]+game[2][0] != 0\n",
    "    and game[0][0]+game[1][1]+game[2][2] != 6\n",
    "    and game[0][2]+game[1][1]+game[2][0] != 6      \n",
    "    \n",
    "    and game[0][0]+game[1][0]+game[2][0] != 0\n",
    "    and game[0][1]+game[1][1]+game[2][1] != 0\n",
    "    and game[0][2]+game[1][2]+game[2][2] != 0\n",
    "    and game[0][0]+game[1][0]+game[2][0] != 6\n",
    "    and game[0][1]+game[1][1]+game[2][1] != 6\n",
    "    and game[0][2]+game[1][2]+game[2][2] != 6):\n",
    "\n",
    "    n += 1\n",
    "# 打印棋盘\n",
    "    for i in game :\n",
    "        print(i)\n",
    "\n",
    "# 用坐标表示下棋的位置\n",
    "# Player1下棋\n",
    "    Position1 = int(input(\"Player1下哪个位置？\"))\n",
    "    game[Position1//10 -1][Position1%10 -1] = 0\n",
    "\n",
    "    if n == 5 :\n",
    "        print (\"平局，再来一盘吧\")\n",
    "        break  # 防止棋盘下满后死循环\n",
    "        \n",
    "\n",
    "    for i in game :\n",
    "        print(i)\n",
    "# Player2下棋\n",
    "    Position1 = int(input(\"Player2下哪个位置？\"))\n",
    "    game[Position1//10 -1][Position1%10 -1] = 2\n",
    "    \n",
    "# 判定胜负\n",
    "else:\n",
    "    for i in game :\n",
    "        print(i)\n",
    "    if (sum(game[0]) == 0\n",
    "    or sum(game[1]) == 0\n",
    "    or sum(game[2]) == 0\n",
    "\n",
    "    or game[0][0]+game[1][1]+game[2][2] == 0\n",
    "    or game[0][2]+game[1][1]+game[2][0] == 0\n",
    "    \n",
    "    or game[0][0]+game[1][0]+game[2][0] == 0\n",
    "    or game[0][1]+game[1][1]+game[2][1] == 0\n",
    "    or game[0][2]+game[1][2]+game[2][2] == 0):\n",
    "        print('Player 1 win!')\n",
    "    else:\n",
    "        print('Player 2 win!'"
   ]
  },
  {
   "cell_type": "markdown",
   "id": "resistant-times",
   "metadata": {},
   "source": [
    "# Train2"
   ]
  },
  {
   "cell_type": "markdown",
   "id": "forced-greensboro",
   "metadata": {},
   "source": [
    "## 1.制作一个抢红包小程序，及输入人数和金额，打印每个红包的金额"
   ]
  },
  {
   "cell_type": "code",
   "execution_count": null,
   "id": "crude-buffalo",
   "metadata": {},
   "outputs": [],
   "source": [
    "def rob_red_pocket (people,money) :\n",
    "    import random\n",
    "    l = []\n",
    "    for i in range(people) :\n",
    "        l.append(round (random.uniform(0.01,money - sum(l)) , 2))\n",
    "        print (l[i])\n",
    "\n",
    "people = 10  #int(input('多少人抢红包：'))\n",
    "money = 20  #int(input('抢多少钱？'))\n",
    "rob_red_pocket (people,money)"
   ]
  },
  {
   "cell_type": "markdown",
   "id": "charitable-three",
   "metadata": {},
   "source": [
    "## 2.随便给一个文件夹路径统计里面文件种类和对应数量"
   ]
  },
  {
   "cell_type": "code",
   "execution_count": null,
   "id": "solar-register",
   "metadata": {},
   "outputs": [],
   "source": [
    "import os\n",
    "from pathlib import Path\n",
    "\n",
    "Type=dict()\n",
    "#输入要浏览的文件夹路径\n",
    "File = input(\"文件目录\")\n",
    "#读取文件的后缀名\n",
    "for root, dirs, files in os.walk(File):\n",
    "    for i in files:\n",
    "        f =Path(i).suffix  \n",
    "        if f in Type: \n",
    "            Type[f]=Type[f]+1 \n",
    "        else:\n",
    "            Type[f]=1\n",
    "            \n",
    "name=Type.keys()\n",
    "for i in name:\n",
    "    print(i,':',Type[i])"
   ]
  },
  {
   "cell_type": "markdown",
   "id": "caroline-transaction",
   "metadata": {},
   "source": [
    "## 3.在给定的文件中匹配给定样式的所有字符串并打印"
   ]
  },
  {
   "cell_type": "code",
   "execution_count": null,
   "id": "binary-significance",
   "metadata": {},
   "outputs": [],
   "source": [
    "import re\n",
    "File = open(\"data.txt\",\"r\",encoding='utf-8')\n",
    "s = File.read()\n",
    "File.close()\n",
    "p = re.compile(r\"[\\d]\")\n",
    "p.findall(s)"
   ]
  },
  {
   "cell_type": "markdown",
   "id": "recovered-angola",
   "metadata": {},
   "source": [
    "## 4.mysplite"
   ]
  },
  {
   "cell_type": "code",
   "execution_count": null,
   "id": "formed-sucking",
   "metadata": {},
   "outputs": [],
   "source": [
    "s = 'a,b,c'\n",
    "print (s.split(',')) #人家的函数\n",
    "\n",
    "def my_split(c):  #wy的函数\n",
    "    A = []\n",
    "    B = \"\"\n",
    "    for Character in s :\n",
    "        if Character == c :\n",
    "            A.append(B)\n",
    "            B = \"\"\n",
    "        else :\n",
    "            B += Character\n",
    "    A.append(B)\n",
    "    print(A)\n",
    "\n",
    "my_split(',')"
   ]
  }
 ],
 "metadata": {
  "kernelspec": {
   "display_name": "Python 3",
   "language": "python",
   "name": "python3"
  },
  "language_info": {
   "codemirror_mode": {
    "name": "ipython",
    "version": 3
   },
   "file_extension": ".py",
   "mimetype": "text/x-python",
   "name": "python",
   "nbconvert_exporter": "python",
   "pygments_lexer": "ipython3",
   "version": "3.7.9"
  }
 },
 "nbformat": 4,
 "nbformat_minor": 5
}
