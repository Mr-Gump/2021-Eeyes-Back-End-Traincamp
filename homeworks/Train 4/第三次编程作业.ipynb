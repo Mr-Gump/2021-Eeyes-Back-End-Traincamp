{
 "cells": [
  {
   "cell_type": "markdown",
   "metadata": {},
   "source": [
    " 1.背景：在使用 Python 进行《我是动物饲养员》这个游戏的开发过程中，有一个代码片段要求定义动物园、动物、猫、狗四个类。<br>\n",
    "\n",
    "这个类可以使用如下形式为动物园增加一只猫：<br>\n",
    "\n",
    "复制代码<br>\n",
    "```python\n",
    "if __name__ == '__main__':\n",
    "    # 实例化动物园\n",
    "    z = Zoo('时间动物园')\n",
    "    # 实例化一只猫，属性包括名字、类型、体型、性格\n",
    "    cat1 = Cat('大花猫 1', '食肉', '小', '温顺')\n",
    "    # 增加一只猫到动物园\n",
    "    z.add_animal(cat1)\n",
    "    # 动物园是否有猫这种动物\n",
    "    have_cat = hasattr(z, 'Cat')```<br>\n",
    "具体要求：\n",
    "\n",
    "定义“动物”、“猫”、“狗”、“动物园”四个类，动物类不允许被实例化。<br>\n",
    "动物类要求定义“类型”、“体型”、“性格”、“是否属于凶猛动物”四个属性，是否属于凶猛动物的判断标准是：“体型 >= 中等”并且是“食肉类型”同时“性格凶猛”。<br>\n",
    "猫类要求有“叫声”、“是否适合作为宠物”以及“名字”三个属性，其中“叫声”作为类属性，除凶猛动物外都适合作为宠物，猫类继承自动物类。狗类属性与猫类相同，继承自动物类。<br>\n",
    "动物园类要求有“名字”属性和“添加动物”的方法，“添加动物”方法要实现同一只动物（同一个动物实例）不能被重复添加的功能。<br>\n",
    "提示:自学**单继承**(很简单)"
   ]
  },
  {
   "cell_type": "code",
   "execution_count": 1,
   "metadata": {},
   "outputs": [],
   "source": [
    "# code here , and show me the result of your code running!!!!!\n"
   ]
  },
  {
   "cell_type": "markdown",
   "metadata": {},
   "source": [
    "2.重新编写(分别编写面向过程和面向对象的两种)井字棋代码,要求随时可以打印棋盘,玩家自定义昵称.落子顺序,非法落子须有提示!<br>\n",
    "提示:面向对象编程时最好定义棋盘类和玩家类"
   ]
  },
  {
   "cell_type": "code",
   "execution_count": null,
   "metadata": {},
   "outputs": [],
   "source": [
    "# code here , and show me the result of your code running!!!!!\n"
   ]
  }
 ],
 "metadata": {
  "kernelspec": {
   "display_name": "Python 3",
   "language": "python",
   "name": "python3"
  },
  "language_info": {
   "codemirror_mode": {
    "name": "ipython",
    "version": 3
   },
   "file_extension": ".py",
   "mimetype": "text/x-python",
   "name": "python",
   "nbconvert_exporter": "python",
   "pygments_lexer": "ipython3",
   "version": "3.7.9"
  }
 },
 "nbformat": 4,
 "nbformat_minor": 4
}
