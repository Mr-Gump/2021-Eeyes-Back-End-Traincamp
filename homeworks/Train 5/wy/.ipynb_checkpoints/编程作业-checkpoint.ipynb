{
 "cells": [
  {
   "cell_type": "code",
   "execution_count": null,
   "id": "unavailable-vegetation",
   "metadata": {},
   "outputs": [],
   "source": [
    "1.背景：在使用 Python 进行《我是动物饲养员》这个游戏的开发过程中，有一个代码片段要求定义动物园、动物、猫、狗四个类。\n",
    "\n",
    "这个类可以使用如下形式为动物园增加一只猫：\n",
    "\n",
    "if __name__ == '__main__':\n",
    "    # 实例化动物园\n",
    "    z = Zoo('时间动物园')\n",
    "    # 实例化一只猫，属性包括名字、类型、体型、性格\n",
    "    cat1 = Cat('大花猫 1', '食肉', '小', '温顺')\n",
    "    # 增加一只猫到动物园\n",
    "    z.add_animal(cat1)\n",
    "    # 动物园是否有猫这种动物\n",
    "    have_cat = hasattr(z, 'Cat')\n",
    "具体要求：\n",
    "\n",
    "定义“动物”、“猫”、“狗”、“动物园”四个类，动物类不允许被实例化。\n",
    "动物类要求定义“类型”、“体型”、“性格”、“是否属于凶猛动物”四个属性，是否属于凶猛动物的判断标准是：“体型 >= 中等”并且是“食肉类型”同时“性格凶猛”。\n",
    "猫类要求有“叫声”、“是否适合作为宠物”以及“名字”三个属性，其中“叫声”作为类属性，除凶猛动物外都适合作为宠物，猫类继承自动物类。狗类属性与猫类相同，继承自动物类。\n",
    "动物园类要求有“名字”属性和“添加动物”的方法，“添加动物”方法要实现同一只动物（同一个动物实例）不能被重复添加"
   ]
  },
  {
   "cell_type": "code",
   "execution_count": null,
   "id": "auburn-amplifier",
   "metadata": {},
   "outputs": [],
   "source": [
    "class Zoo:\n",
    "    def __init__(self,name):\n",
    "        self.name=name\n",
    "        self.animals=[]\n",
    "    def add(self,animal):\n",
    "        if animal in self.animals:\n",
    "            print(f'无法重复添加')\n",
    "        else:\n",
    "            self.animals.append(animal)\n",
    "            animal_kind=animal.__class__.__name__\n",
    "            setattr(self,animal_kind,animal)\n",
    "            \n",
    "class Animal:\n",
    "    kind_dict={'小':0,'中等':1,'大':2}\n",
    "    def __new__(cls, *args):\n",
    "        if cls.__name__=='Animal':\n",
    "            print('不可实例化')\n",
    "        else:\n",
    "            return  super().__new__(cls)\n",
    "    def __init__(self,kind,shape,chara):\n",
    "        self.kind=kind\n",
    "        self.shape=Animal.kind_dict[shape]\n",
    "        self.chara=chara\n",
    "    @property\n",
    "    def is_fierce0(self):\n",
    "        if self.shape>=1 and self.kind=='食肉'and self.chara=='凶猛':\n",
    "            return True\n",
    "        else:\n",
    "            return False\n",
    "        \n",
    "class Cat(Animal):\n",
    "    sound='miao'\n",
    "    def __init__(self,name,kind,shape,chara):\n",
    "        super().__init__(kind,shape,chara)\n",
    "        self.name=name\n",
    "    @property\n",
    "    def pet(self):\n",
    "        if self.is_fierce==True\n",
    "            return False\n",
    "        else:\n",
    "            return True\n",
    "        \n",
    "class Dog(Animal):\n",
    "    sound='wang'\n",
    "    def __init__(self,name,kind,shape,chara):\n",
    "        super().__init__(kind,shape,chara)\n",
    "        self.name=name\n",
    "    @property\n",
    "    def pet(self):\n",
    "        if self.is_fierce==True\n",
    "            return False\n",
    "        else:\n",
    "            return True\n",
    "\n"
   ]
  },
  {
   "cell_type": "markdown",
   "id": "numerous-basement",
   "metadata": {},
   "source": [
    "2.用面向对象的方法实现井字棋"
   ]
  },
  {
   "cell_type": "code",
   "execution_count": null,
   "id": "revised-rehabilitation",
   "metadata": {},
   "outputs": [
    {
     "name": "stdout",
     "output_type": "stream",
     "text": [
      "-----比赛开始-------\n"
     ]
    }
   ],
   "source": [
    "import sys\n",
    "\n",
    "class Player(object):\n",
    "    def __init__(self, name, mark):\n",
    "        self.name = name\n",
    "        self.mark = mark\n",
    "    def gen_point(self):\n",
    "        loc = input(f'player {self.name} , please enter a point like 1,2 :')\n",
    "        return Point.pre_gen(loc, self.mark)\n",
    "    \n",
    "class Point(object):\n",
    "    chess_type = {0: '-', 1: 'X', 2: \"O\"}\n",
    "    def __init__(self, x, y, mark):\n",
    "        self.x = x\n",
    "        self.y = y\n",
    "        self.mark = mark\n",
    "    @classmethod\n",
    "    def pre_gen(cls, pre_str, mark):\n",
    "        x = int(pre_str.split(',')[0]) - 1\n",
    "        y = int(pre_str.split(',')[1]) - 1\n",
    "        return cls(x, y, mark)\n",
    "    \n",
    "class Chess(object):\n",
    "    def __init__(self):\n",
    "        self.board = []\n",
    "        for i in range(3):\n",
    "            self.board.append([0, 0, 0])\n",
    "            \n",
    "    def print_chess(self):\n",
    "        for line in self.board:\n",
    "            for i in line:\n",
    "                print(Point.chess_type[i], end=' ')\n",
    "            print()\n",
    "            \n",
    "    def insert_to_chess(self, point):\n",
    "        if point.x > 2 or point.y > 2:\n",
    "            print('落子位置超出棋盘,落子无效!')\n",
    "            sys.exit()\n",
    "        if self.board[point.x][point.y] != 0:\n",
    "            print('落子位置有其他落子,落子无效')\n",
    "            sys.exit()\n",
    "        self.board[point.x][point.y] = point.mark\n",
    "        self.print_chess()\n",
    "        if self.judge() == 1:\n",
    "            print('player1获胜')\n",
    "            sys.exit()\n",
    "        elif self.judge() == 2:\n",
    "            print('player2 获胜')\n",
    "            sys.exit()\n",
    "            \n",
    "    def judge(self):\n",
    "        flag = 0\n",
    "        for line in self.board:\n",
    "            if line[0] == line[1] and line[2] == line[1]:\n",
    "                if line[0] == 1:\n",
    "                    flag = 1\n",
    "                elif line[0] == 1:\n",
    "                    flag = 2\n",
    "        for i in range(3):\n",
    "            if self.board[0][i] == self.board[1][i] and self.board[2][i] == self.board[1][i]:\n",
    "                if self.board[0][i] == 1:\n",
    "                    flag = 1\n",
    "                elif self.board[0][i] == 2:\n",
    "                    flag=2\n",
    "        if self.board[0][0] == self.board[1][1] and self.board[2][2] == self.board[1][1]:\n",
    "            if self.board[0][0] == 1:\n",
    "                flag = 1\n",
    "            elif self.board[0][0] == 2:\n",
    "                flag = 2\n",
    "        elif self.board[0][2] == self.board[1][1] and self.board[2][0] == self.board[1][1]:\n",
    "            if self.board[1][1] == 1:\n",
    "                flag = 1\n",
    "            elif self.board[1][1] == 2:\n",
    "                flag = 2\n",
    "        return flag\n",
    "    \n",
    "if __name__ == '__main__':\n",
    "    player1 = Player('ty', 1)\n",
    "    player2 = Player('gwh', 2)\n",
    "    chess = Chess()\n",
    "    print('-----比赛开始-------')\n",
    "    \n",
    "    while True:\n",
    "        current_point = player1.gen_point()\n",
    "        chess.insert_to_chess(current_point)\n",
    "        current_point = player2.gen_point()\n",
    "        chess.insert_to_chess(current_point)\n",
    "        "
   ]
  },
  {
   "cell_type": "markdown",
   "id": "cheap-bachelor",
   "metadata": {},
   "source": [
    "3.用自己的话分析一下动物园题目,并说明你认为的难点及其解决方法"
   ]
  },
  {
   "cell_type": "markdown",
   "id": "illegal-patent",
   "metadata": {},
   "source": [
    "### 题目分析:\n",
    "\n",
    "    1. 定义 动物类  要求有四个属性，\n",
    "      判断凶猛动物。\n",
    "      \n",
    "    2. 继承自动物类  定义猫类\n",
    "      猫有独特的属性 及类属性\n",
    "      \n",
    "    3. 继承自动物类  定义狗类\n",
    "      狗类属性与猫类相同\n",
    "      \n",
    "    4. 添加动物\n",
    "      且不能被重复添加"
   ]
  },
  {
   "cell_type": "markdown",
   "id": "mobile-hotel",
   "metadata": {},
   "source": [
    "### 难点:\n",
    "\n",
    "1. 动物不允许被实例化\n",
    "解决方法：__new__(copy_yls)"
   ]
  },
  {
   "cell_type": "code",
   "execution_count": null,
   "id": "czech-investing",
   "metadata": {},
   "outputs": [],
   "source": [
    "class Animal(object):\n",
    "    def __new__(cls, *args):\n",
    "        #由于Cat类与Dog类均继承Animal类，所以需要加上限定条件，避免Cat与Dog无法被实例化\n",
    "        if cls.__name__ == 'Animal':\n",
    "            print('Animal不能被实例化!')\n",
    "        else:\n",
    "            return super().__new__(cls)"
   ]
  },
  {
   "cell_type": "markdown",
   "id": "unsigned-silver",
   "metadata": {},
   "source": [
    "2. 在面向对象中 使用if判断\n",
    "解决方法："
   ]
  },
  {
   "cell_type": "code",
   "execution_count": null,
   "id": "contained-index",
   "metadata": {},
   "outputs": [],
   "source": [
    "    def is_fierce(self):\n",
    "        if self.shape >= 1 and self.kind == '食肉' and self.chara == '凶猛':\n",
    "            return True\n",
    "        else:\n",
    "            return False"
   ]
  },
  {
   "cell_type": "markdown",
   "id": "coral-fellow",
   "metadata": {},
   "source": [
    "4.面向对象的方法实现时钟"
   ]
  },
  {
   "cell_type": "code",
   "execution_count": null,
   "id": "exclusive-madness",
   "metadata": {},
   "outputs": [],
   "source": [
    "...."
   ]
  },
  {
   "cell_type": "code",
   "execution_count": null,
   "id": "color-charter",
   "metadata": {},
   "outputs": [],
   "source": [
    "5.面向对象的方法实现坐标点"
   ]
  },
  {
   "cell_type": "code",
   "execution_count": null,
   "id": "tight-demand",
   "metadata": {},
   "outputs": [],
   "source": [
    "#设置点\n",
    "class Point:\n",
    "    def __init__(self,x,y):\n",
    "        self.x=x\n",
    "        self.y=y\n",
    "\n",
    "#点位置改变的方法\n",
    "    def move(self,dx,dy):\n",
    "        self.x=self.x+dx\n",
    "        self.y=self.y+dy\n",
    "\n",
    "\n",
    "#点的距离\n",
    "    def distence(self,numberx,numbery):\n",
    "        return ((self.x-numberx)**2+(self.y-numbery)**2)**0.5\n",
    "\n",
    "#打印\n",
    "    def __str__(self):\n",
    "        return f\"({self.x},{self.y})\"\n",
    "\n",
    "#测试\n",
    "if __name__ == '__main__':\n",
    "    point = Point(1,1)\n",
    "    print(point)\n",
    "    point.move(1,1)\n",
    "    print(point)\n",
    "    print(point.distence(3,3))"
   ]
  },
  {
   "cell_type": "markdown",
   "id": "invalid-remedy",
   "metadata": {},
   "source": [
    "6.思考并尝试用面向对象的思想描述生活中的某个问题,复杂度不限,如:排队问题,游戏对战等"
   ]
  },
  {
   "cell_type": "code",
   "execution_count": null,
   "id": "deluxe-textbook",
   "metadata": {},
   "outputs": [],
   "source": [
    "# BMI体重标准判断\n",
    "class BMI :\n",
    "    def __init__(self, height, weight) :\n",
    "        self.h = height\n",
    "        self.w = weight\n",
    "        self.bmi = int(self.w) / ( (float(self.h) / 100)**2 )\n",
    "\n",
    "    def judge(self):\n",
    "        if self.bmi < 18.5 :\n",
    "            print (\"体重过轻\")\n",
    "        elif self.bmi >= 18.5 and self.bmi < 24 :\n",
    "            print (\"体重正常\")\n",
    "        elif self.bmi >= 24 and self.bmi < 28 :\n",
    "            print (\"超重\")\n",
    "        else :\n",
    "            print (\"肥胖\")\n",
    "\n",
    "# height以cm为单位，weight以kg为单位\n",
    "test = BMI(183, 61)\n",
    "test.judge()"
   ]
  }
 ],
 "metadata": {
  "kernelspec": {
   "display_name": "Python 3",
   "language": "python",
   "name": "python3"
  },
  "language_info": {
   "codemirror_mode": {
    "name": "ipython",
    "version": 3
   },
   "file_extension": ".py",
   "mimetype": "text/x-python",
   "name": "python",
   "nbconvert_exporter": "python",
   "pygments_lexer": "ipython3",
   "version": "3.7.9"
  }
 },
 "nbformat": 4,
 "nbformat_minor": 5
}
